{
 "cells": [
  {
   "cell_type": "code",
   "execution_count": 1,
   "metadata": {},
   "outputs": [],
   "source": [
    "import pandas as pd\n",
    "from itertools import combinations\n",
    "from collections import defaultdict\n",
    "import nltk\n",
    "from nltk.corpus import stopwords\n",
    "from collections import Counter\n",
    "from sklearn.feature_extraction.text import TfidfVectorizer"
   ]
  },
  {
   "cell_type": "code",
   "execution_count": 2,
   "metadata": {},
   "outputs": [],
   "source": [
    "co_occurrence = defaultdict(int)\n",
    "character_counts = defaultdict(int)"
   ]
  },
  {
   "cell_type": "code",
   "execution_count": 3,
   "metadata": {},
   "outputs": [],
   "source": [
    "df = pd.read_csv('Friends.csv')"
   ]
  },
  {
   "cell_type": "code",
   "execution_count": 4,
   "metadata": {},
   "outputs": [],
   "source": [
    "df = df.dropna(subset=['Speaker'])"
   ]
  },
  {
   "cell_type": "code",
   "execution_count": 5,
   "metadata": {},
   "outputs": [],
   "source": [
    "df['Speaker'] = df['Speaker'].str.title()"
   ]
  },
  {
   "cell_type": "code",
   "execution_count": 6,
   "metadata": {},
   "outputs": [],
   "source": [
    "unique_speakers = df['Speaker'].unique()"
   ]
  },
  {
   "cell_type": "code",
   "execution_count": 7,
   "metadata": {},
   "outputs": [
    {
     "name": "stdout",
     "output_type": "stream",
     "text": [
      "Ross              8869\n",
      "Rachel            8774\n",
      "Chandler          8058\n",
      "Joey              8047\n",
      "Monica            7965\n",
      "Phoebe            7152\n",
      "[Scene            2833\n",
      "Mike               355\n",
      "All                332\n",
      "Rach               325\n",
      "Mnca               259\n",
      "Richard            254\n",
      "Chan               233\n",
      "Janice             208\n",
      "Mr. Geller         204\n",
      "Phoe               195\n",
      "Carol              192\n",
      "Charlie            190\n",
      "Transcribed By     171\n",
      "Mrs. Geller        167\n",
      "Emily              167\n",
      "Tag                146\n",
      "Frank              133\n",
      "Paul               130\n",
      "Gunther            127\n",
      "Written By         126\n",
      "David              120\n",
      "Amy                116\n",
      "Mona               111\n",
      "Woman              105\n",
      "Name: Speaker, dtype: int64\n"
     ]
    }
   ],
   "source": [
    "top_30_characters = df['Speaker'].value_counts().head(30)\n",
    "\n",
    "print(top_30_characters)"
   ]
  },
  {
   "cell_type": "code",
   "execution_count": null,
   "metadata": {},
   "outputs": [],
   "source": []
  },
  {
   "cell_type": "code",
   "execution_count": 8,
   "metadata": {},
   "outputs": [],
   "source": [
    "entries_to_remove = [\"[Scene\", \"All\", \"Transcribed By\", \"Written By\", \"Woman\"]"
   ]
  },
  {
   "cell_type": "code",
   "execution_count": 9,
   "metadata": {},
   "outputs": [],
   "source": [
    "df = df[~df['Speaker'].isin(entries_to_remove)]"
   ]
  },
  {
   "cell_type": "code",
   "execution_count": 10,
   "metadata": {},
   "outputs": [],
   "source": [
    "replacements = {\n",
    "    r'\\bMnca\\b': 'Monica',\n",
    "    r'\\bRach\\b': 'Rachel',\n",
    "    r'\\bPhoe\\b': 'Phoebe',\n",
    "    r'\\bChan\\b': 'Chandler'\n",
    "}\n",
    "\n",
    "df['Speaker'] = df['Speaker'].replace(replacements, regex=True)"
   ]
  },
  {
   "cell_type": "code",
   "execution_count": null,
   "metadata": {},
   "outputs": [],
   "source": []
  },
  {
   "cell_type": "code",
   "execution_count": null,
   "metadata": {},
   "outputs": [],
   "source": []
  },
  {
   "cell_type": "code",
   "execution_count": 11,
   "metadata": {},
   "outputs": [
    {
     "name": "stdout",
     "output_type": "stream",
     "text": [
      "Rachel         9099\n",
      "Ross           8869\n",
      "Chandler       8291\n",
      "Monica         8224\n",
      "Joey           8047\n",
      "Phoebe         7347\n",
      "Mike            355\n",
      "Richard         254\n",
      "Janice          208\n",
      "Mr. Geller      204\n",
      "Carol           192\n",
      "Charlie         190\n",
      "Emily           167\n",
      "Mrs. Geller     167\n",
      "Tag             146\n",
      "Frank           133\n",
      "Paul            130\n",
      "Gunther         127\n",
      "David           120\n",
      "Amy             116\n",
      "Mona            111\n",
      "Pete            103\n",
      "Susan           102\n",
      "Joshua           98\n",
      "Gary             96\n",
      "Elizabeth        94\n",
      "Janine           92\n",
      "Kathy            91\n",
      "Jill             83\n",
      "Ben              73\n",
      "Name: Speaker, dtype: int64\n"
     ]
    }
   ],
   "source": [
    "top_30_characters = df['Speaker'].value_counts().head(30)\n",
    "\n",
    "print(top_30_characters)"
   ]
  },
  {
   "cell_type": "code",
   "execution_count": 12,
   "metadata": {},
   "outputs": [],
   "source": [
    "top_30_characters_list = top_30_characters.index.tolist()"
   ]
  },
  {
   "cell_type": "code",
   "execution_count": 13,
   "metadata": {},
   "outputs": [],
   "source": [
    "df = df[df['Speaker'].isin(top_30_characters_list)]"
   ]
  },
  {
   "cell_type": "code",
   "execution_count": 14,
   "metadata": {},
   "outputs": [
    {
     "name": "stdout",
     "output_type": "stream",
     "text": [
      "['Monica' 'Joey' 'Chandler' 'Phoebe' 'Ross' 'Rachel' 'Paul' 'Carol'\n",
      " 'Mrs. Geller' 'Mr. Geller' 'Susan' 'Jill' 'David' 'Janice' 'Gunther'\n",
      " 'Richard' 'Ben' 'Frank' 'Mike' 'Pete' 'Kathy' 'Joshua' 'Emily'\n",
      " 'Elizabeth' 'Gary' 'Janine' 'Tag' 'Mona' 'Amy' 'Charlie']\n"
     ]
    }
   ],
   "source": [
    "print(df['Speaker'].unique())"
   ]
  },
  {
   "cell_type": "code",
   "execution_count": 15,
   "metadata": {},
   "outputs": [],
   "source": [
    "co_occurrence = defaultdict(int)\n",
    "character_counts = defaultdict(int)"
   ]
  },
  {
   "cell_type": "code",
   "execution_count": 16,
   "metadata": {},
   "outputs": [],
   "source": [
    "for _, episode_group in df.groupby(['Season', 'Episode']):\n",
    "    characters = episode_group['Speaker'].unique()\n",
    "    for character in characters:\n",
    "        character_counts[character] += 1\n",
    "    for char_a, char_b in combinations(characters, 2):\n",
    "        co_occurrence[frozenset([char_a, char_b])] += 1"
   ]
  },
  {
   "cell_type": "code",
   "execution_count": 17,
   "metadata": {},
   "outputs": [],
   "source": [
    "nodes = [{\"Name\": character, \"Weight\": count} for character, count in character_counts.items()]\n",
    "edges = []\n",
    "\n",
    "for characters, count in co_occurrence.items():\n",
    "    char_a, char_b = characters\n",
    "    edges.append({\n",
    "        \"source\": char_a,\n",
    "        \"target\": char_b,\n",
    "        \"weight\": count,\n",
    "        \"sourceIndex\": list(character_counts.keys()).index(char_a),\n",
    "        \"targetIndex\": list(character_counts.keys()).index(char_b)\n",
    "    })"
   ]
  },
  {
   "cell_type": "code",
   "execution_count": null,
   "metadata": {},
   "outputs": [],
   "source": []
  },
  {
   "cell_type": "code",
   "execution_count": 18,
   "metadata": {},
   "outputs": [
    {
     "name": "stdout",
     "output_type": "stream",
     "text": [
      "[{'Name': 'Monica', 'Weight': 225}, {'Name': 'Joey', 'Weight': 225}, {'Name': 'Chandler', 'Weight': 225}, {'Name': 'Phoebe', 'Weight': 225}, {'Name': 'Ross', 'Weight': 225}, {'Name': 'Rachel', 'Weight': 225}, {'Name': 'Paul', 'Weight': 4}, {'Name': 'Carol', 'Weight': 15}, {'Name': 'Mrs. Geller', 'Weight': 17}, {'Name': 'Mr. Geller', 'Weight': 19}, {'Name': 'Susan', 'Weight': 11}, {'Name': 'Jill', 'Weight': 4}, {'Name': 'David', 'Weight': 5}, {'Name': 'Janice', 'Weight': 18}, {'Name': 'Gunther', 'Weight': 51}, {'Name': 'Richard', 'Weight': 9}, {'Name': 'Ben', 'Weight': 10}, {'Name': 'Frank', 'Weight': 6}, {'Name': 'Mike', 'Weight': 18}, {'Name': 'Pete', 'Weight': 6}, {'Name': 'Kathy', 'Weight': 7}, {'Name': 'Joshua', 'Weight': 5}, {'Name': 'Emily', 'Weight': 12}, {'Name': 'Elizabeth', 'Weight': 6}, {'Name': 'Gary', 'Weight': 5}, {'Name': 'Janine', 'Weight': 6}, {'Name': 'Tag', 'Weight': 7}, {'Name': 'Mona', 'Weight': 7}, {'Name': 'Amy', 'Weight': 2}, {'Name': 'Charlie', 'Weight': 8}]\n"
     ]
    }
   ],
   "source": [
    "print(nodes)"
   ]
  },
  {
   "cell_type": "code",
   "execution_count": 19,
   "metadata": {},
   "outputs": [
    {
     "name": "stdout",
     "output_type": "stream",
     "text": [
      "[{'source': 'Monica', 'target': 'Joey', 'weight': 225, 'sourceIndex': 0, 'targetIndex': 1}, {'source': 'Monica', 'target': 'Chandler', 'weight': 225, 'sourceIndex': 0, 'targetIndex': 2}, {'source': 'Monica', 'target': 'Phoebe', 'weight': 225, 'sourceIndex': 0, 'targetIndex': 3}, {'source': 'Monica', 'target': 'Ross', 'weight': 225, 'sourceIndex': 0, 'targetIndex': 4}, {'source': 'Monica', 'target': 'Rachel', 'weight': 225, 'sourceIndex': 0, 'targetIndex': 5}, {'source': 'Monica', 'target': 'Paul', 'weight': 4, 'sourceIndex': 0, 'targetIndex': 6}, {'source': 'Joey', 'target': 'Chandler', 'weight': 225, 'sourceIndex': 1, 'targetIndex': 2}, {'source': 'Phoebe', 'target': 'Joey', 'weight': 225, 'sourceIndex': 3, 'targetIndex': 1}, {'source': 'Joey', 'target': 'Ross', 'weight': 225, 'sourceIndex': 1, 'targetIndex': 4}, {'source': 'Joey', 'target': 'Rachel', 'weight': 225, 'sourceIndex': 1, 'targetIndex': 5}, {'source': 'Joey', 'target': 'Paul', 'weight': 4, 'sourceIndex': 1, 'targetIndex': 6}, {'source': 'Phoebe', 'target': 'Chandler', 'weight': 225, 'sourceIndex': 3, 'targetIndex': 2}, {'source': 'Chandler', 'target': 'Ross', 'weight': 225, 'sourceIndex': 2, 'targetIndex': 4}, {'source': 'Rachel', 'target': 'Chandler', 'weight': 225, 'sourceIndex': 5, 'targetIndex': 2}, {'source': 'Paul', 'target': 'Chandler', 'weight': 4, 'sourceIndex': 6, 'targetIndex': 2}, {'source': 'Phoebe', 'target': 'Ross', 'weight': 225, 'sourceIndex': 3, 'targetIndex': 4}, {'source': 'Phoebe', 'target': 'Rachel', 'weight': 225, 'sourceIndex': 3, 'targetIndex': 5}, {'source': 'Phoebe', 'target': 'Paul', 'weight': 4, 'sourceIndex': 3, 'targetIndex': 6}, {'source': 'Rachel', 'target': 'Ross', 'weight': 225, 'sourceIndex': 5, 'targetIndex': 4}, {'source': 'Paul', 'target': 'Ross', 'weight': 4, 'sourceIndex': 6, 'targetIndex': 4}, {'source': 'Rachel', 'target': 'Paul', 'weight': 4, 'sourceIndex': 5, 'targetIndex': 6}, {'source': 'Monica', 'target': 'Carol', 'weight': 15, 'sourceIndex': 0, 'targetIndex': 7}, {'source': 'Monica', 'target': 'Mrs. Geller', 'weight': 17, 'sourceIndex': 0, 'targetIndex': 8}, {'source': 'Monica', 'target': 'Mr. Geller', 'weight': 19, 'sourceIndex': 0, 'targetIndex': 9}, {'source': 'Monica', 'target': 'Susan', 'weight': 11, 'sourceIndex': 0, 'targetIndex': 10}, {'source': 'Joey', 'target': 'Carol', 'weight': 15, 'sourceIndex': 1, 'targetIndex': 7}, {'source': 'Joey', 'target': 'Mrs. Geller', 'weight': 17, 'sourceIndex': 1, 'targetIndex': 8}, {'source': 'Joey', 'target': 'Mr. Geller', 'weight': 19, 'sourceIndex': 1, 'targetIndex': 9}, {'source': 'Joey', 'target': 'Susan', 'weight': 11, 'sourceIndex': 1, 'targetIndex': 10}, {'source': 'Phoebe', 'target': 'Carol', 'weight': 15, 'sourceIndex': 3, 'targetIndex': 7}, {'source': 'Phoebe', 'target': 'Mrs. Geller', 'weight': 17, 'sourceIndex': 3, 'targetIndex': 8}, {'source': 'Phoebe', 'target': 'Mr. Geller', 'weight': 19, 'sourceIndex': 3, 'targetIndex': 9}, {'source': 'Phoebe', 'target': 'Susan', 'weight': 11, 'sourceIndex': 3, 'targetIndex': 10}, {'source': 'Rachel', 'target': 'Carol', 'weight': 15, 'sourceIndex': 5, 'targetIndex': 7}, {'source': 'Rachel', 'target': 'Mrs. Geller', 'weight': 17, 'sourceIndex': 5, 'targetIndex': 8}, {'source': 'Rachel', 'target': 'Mr. Geller', 'weight': 19, 'sourceIndex': 5, 'targetIndex': 9}, {'source': 'Rachel', 'target': 'Susan', 'weight': 11, 'sourceIndex': 5, 'targetIndex': 10}, {'source': 'Carol', 'target': 'Chandler', 'weight': 15, 'sourceIndex': 7, 'targetIndex': 2}, {'source': 'Mrs. Geller', 'target': 'Chandler', 'weight': 17, 'sourceIndex': 8, 'targetIndex': 2}, {'source': 'Mr. Geller', 'target': 'Chandler', 'weight': 19, 'sourceIndex': 9, 'targetIndex': 2}, {'source': 'Susan', 'target': 'Chandler', 'weight': 11, 'sourceIndex': 10, 'targetIndex': 2}, {'source': 'Carol', 'target': 'Ross', 'weight': 15, 'sourceIndex': 7, 'targetIndex': 4}, {'source': 'Mrs. Geller', 'target': 'Ross', 'weight': 17, 'sourceIndex': 8, 'targetIndex': 4}, {'source': 'Mr. Geller', 'target': 'Ross', 'weight': 19, 'sourceIndex': 9, 'targetIndex': 4}, {'source': 'Susan', 'target': 'Ross', 'weight': 11, 'sourceIndex': 10, 'targetIndex': 4}, {'source': 'Mrs. Geller', 'target': 'Carol', 'weight': 1, 'sourceIndex': 8, 'targetIndex': 7}, {'source': 'Mr. Geller', 'target': 'Carol', 'weight': 1, 'sourceIndex': 9, 'targetIndex': 7}, {'source': 'Susan', 'target': 'Carol', 'weight': 11, 'sourceIndex': 10, 'targetIndex': 7}, {'source': 'Mr. Geller', 'target': 'Mrs. Geller', 'weight': 14, 'sourceIndex': 9, 'targetIndex': 8}, {'source': 'Susan', 'target': 'Mrs. Geller', 'weight': 1, 'sourceIndex': 10, 'targetIndex': 8}, {'source': 'Mr. Geller', 'target': 'Susan', 'weight': 1, 'sourceIndex': 9, 'targetIndex': 10}, {'source': 'Rachel', 'target': 'Jill', 'weight': 4, 'sourceIndex': 5, 'targetIndex': 11}, {'source': 'Phoebe', 'target': 'Jill', 'weight': 4, 'sourceIndex': 3, 'targetIndex': 11}, {'source': 'Jill', 'target': 'Chandler', 'weight': 4, 'sourceIndex': 11, 'targetIndex': 2}, {'source': 'Monica', 'target': 'Jill', 'weight': 4, 'sourceIndex': 0, 'targetIndex': 11}, {'source': 'Joey', 'target': 'Jill', 'weight': 4, 'sourceIndex': 1, 'targetIndex': 11}, {'source': 'Jill', 'target': 'Ross', 'weight': 4, 'sourceIndex': 11, 'targetIndex': 4}, {'source': 'David', 'target': 'Ross', 'weight': 5, 'sourceIndex': 12, 'targetIndex': 4}, {'source': 'Janice', 'target': 'Ross', 'weight': 18, 'sourceIndex': 13, 'targetIndex': 4}, {'source': 'Monica', 'target': 'David', 'weight': 5, 'sourceIndex': 0, 'targetIndex': 12}, {'source': 'Monica', 'target': 'Janice', 'weight': 18, 'sourceIndex': 0, 'targetIndex': 13}, {'source': 'David', 'target': 'Rachel', 'weight': 5, 'sourceIndex': 12, 'targetIndex': 5}, {'source': 'Janice', 'target': 'Rachel', 'weight': 18, 'sourceIndex': 13, 'targetIndex': 5}, {'source': 'Phoebe', 'target': 'David', 'weight': 5, 'sourceIndex': 3, 'targetIndex': 12}, {'source': 'Janice', 'target': 'Phoebe', 'weight': 18, 'sourceIndex': 13, 'targetIndex': 3}, {'source': 'David', 'target': 'Chandler', 'weight': 5, 'sourceIndex': 12, 'targetIndex': 2}, {'source': 'Janice', 'target': 'Chandler', 'weight': 18, 'sourceIndex': 13, 'targetIndex': 2}, {'source': 'David', 'target': 'Joey', 'weight': 5, 'sourceIndex': 12, 'targetIndex': 1}, {'source': 'Janice', 'target': 'Joey', 'weight': 18, 'sourceIndex': 13, 'targetIndex': 1}, {'source': 'Janice', 'target': 'David', 'weight': 1, 'sourceIndex': 13, 'targetIndex': 12}, {'source': 'Janice', 'target': 'Carol', 'weight': 2, 'sourceIndex': 13, 'targetIndex': 7}, {'source': 'Gunther', 'target': 'Phoebe', 'weight': 51, 'sourceIndex': 14, 'targetIndex': 3}, {'source': 'Gunther', 'target': 'Joey', 'weight': 51, 'sourceIndex': 14, 'targetIndex': 1}, {'source': 'Gunther', 'target': 'Chandler', 'weight': 51, 'sourceIndex': 14, 'targetIndex': 2}, {'source': 'Gunther', 'target': 'Rachel', 'weight': 51, 'sourceIndex': 14, 'targetIndex': 5}, {'source': 'Monica', 'target': 'Gunther', 'weight': 51, 'sourceIndex': 0, 'targetIndex': 14}, {'source': 'Gunther', 'target': 'Ross', 'weight': 51, 'sourceIndex': 14, 'targetIndex': 4}, {'source': 'Richard', 'target': 'Joey', 'weight': 9, 'sourceIndex': 15, 'targetIndex': 1}, {'source': 'Richard', 'target': 'Chandler', 'weight': 9, 'sourceIndex': 15, 'targetIndex': 2}, {'source': 'Richard', 'target': 'Phoebe', 'weight': 9, 'sourceIndex': 15, 'targetIndex': 3}, {'source': 'Richard', 'target': 'Rachel', 'weight': 9, 'sourceIndex': 15, 'targetIndex': 5}, {'source': 'Monica', 'target': 'Richard', 'weight': 9, 'sourceIndex': 0, 'targetIndex': 15}, {'source': 'Richard', 'target': 'Ross', 'weight': 9, 'sourceIndex': 15, 'targetIndex': 4}, {'source': 'Richard', 'target': 'Mrs. Geller', 'weight': 2, 'sourceIndex': 15, 'targetIndex': 8}, {'source': 'Richard', 'target': 'Mr. Geller', 'weight': 2, 'sourceIndex': 15, 'targetIndex': 9}, {'source': 'Phoebe', 'target': 'Ben', 'weight': 10, 'sourceIndex': 3, 'targetIndex': 16}, {'source': 'Richard', 'target': 'Carol', 'weight': 1, 'sourceIndex': 15, 'targetIndex': 7}, {'source': 'Richard', 'target': 'Susan', 'weight': 1, 'sourceIndex': 15, 'targetIndex': 10}, {'source': 'Richard', 'target': 'Ben', 'weight': 1, 'sourceIndex': 15, 'targetIndex': 16}, {'source': 'Rachel', 'target': 'Ben', 'weight': 10, 'sourceIndex': 5, 'targetIndex': 16}, {'source': 'Ben', 'target': 'Ross', 'weight': 10, 'sourceIndex': 16, 'targetIndex': 4}, {'source': 'Monica', 'target': 'Ben', 'weight': 10, 'sourceIndex': 0, 'targetIndex': 16}, {'source': 'Joey', 'target': 'Ben', 'weight': 10, 'sourceIndex': 1, 'targetIndex': 16}, {'source': 'Chandler', 'target': 'Ben', 'weight': 10, 'sourceIndex': 2, 'targetIndex': 16}, {'source': 'Carol', 'target': 'Ben', 'weight': 4, 'sourceIndex': 7, 'targetIndex': 16}, {'source': 'Susan', 'target': 'Ben', 'weight': 2, 'sourceIndex': 10, 'targetIndex': 16}, {'source': 'Frank', 'target': 'Joey', 'weight': 6, 'sourceIndex': 17, 'targetIndex': 1}, {'source': 'Monica', 'target': 'Frank', 'weight': 6, 'sourceIndex': 0, 'targetIndex': 17}, {'source': 'Frank', 'target': 'Rachel', 'weight': 6, 'sourceIndex': 17, 'targetIndex': 5}, {'source': 'Frank', 'target': 'Ross', 'weight': 6, 'sourceIndex': 17, 'targetIndex': 4}, {'source': 'Frank', 'target': 'Phoebe', 'weight': 6, 'sourceIndex': 17, 'targetIndex': 3}, {'source': 'Frank', 'target': 'Chandler', 'weight': 6, 'sourceIndex': 17, 'targetIndex': 2}, {'source': 'Gunther', 'target': 'Frank', 'weight': 2, 'sourceIndex': 14, 'targetIndex': 17}, {'source': 'Gunther', 'target': 'Mrs. Geller', 'weight': 3, 'sourceIndex': 14, 'targetIndex': 8}, {'source': 'Richard', 'target': 'Janice', 'weight': 1, 'sourceIndex': 15, 'targetIndex': 13}, {'source': 'Janice', 'target': 'Mr. Geller', 'weight': 1, 'sourceIndex': 13, 'targetIndex': 9}, {'source': 'Janice', 'target': 'Mrs. Geller', 'weight': 2, 'sourceIndex': 13, 'targetIndex': 8}, {'source': 'Phoebe', 'target': 'Mike', 'weight': 18, 'sourceIndex': 3, 'targetIndex': 18}, {'source': 'Joey', 'target': 'Mike', 'weight': 18, 'sourceIndex': 1, 'targetIndex': 18}, {'source': 'Mike', 'target': 'Rachel', 'weight': 18, 'sourceIndex': 18, 'targetIndex': 5}, {'source': 'Mike', 'target': 'Ross', 'weight': 18, 'sourceIndex': 18, 'targetIndex': 4}, {'source': 'Mike', 'target': 'Chandler', 'weight': 18, 'sourceIndex': 18, 'targetIndex': 2}, {'source': 'Janice', 'target': 'Mike', 'weight': 1, 'sourceIndex': 13, 'targetIndex': 18}, {'source': 'Monica', 'target': 'Mike', 'weight': 18, 'sourceIndex': 0, 'targetIndex': 18}, {'source': 'Mike', 'target': 'Carol', 'weight': 1, 'sourceIndex': 18, 'targetIndex': 7}, {'source': 'Mike', 'target': 'Susan', 'weight': 1, 'sourceIndex': 18, 'targetIndex': 10}, {'source': 'Janice', 'target': 'Susan', 'weight': 1, 'sourceIndex': 13, 'targetIndex': 10}, {'source': 'Gunther', 'target': 'Janice', 'weight': 4, 'sourceIndex': 14, 'targetIndex': 13}, {'source': 'Gunther', 'target': 'Ben', 'weight': 2, 'sourceIndex': 14, 'targetIndex': 16}, {'source': 'Janice', 'target': 'Ben', 'weight': 1, 'sourceIndex': 13, 'targetIndex': 16}, {'source': 'Richard', 'target': 'Gunther', 'weight': 2, 'sourceIndex': 15, 'targetIndex': 14}, {'source': 'Monica', 'target': 'Pete', 'weight': 6, 'sourceIndex': 0, 'targetIndex': 19}, {'source': 'Pete', 'target': 'Joey', 'weight': 6, 'sourceIndex': 19, 'targetIndex': 1}, {'source': 'Gunther', 'target': 'Pete', 'weight': 4, 'sourceIndex': 14, 'targetIndex': 19}, {'source': 'Pete', 'target': 'Chandler', 'weight': 6, 'sourceIndex': 19, 'targetIndex': 2}, {'source': 'Pete', 'target': 'Rachel', 'weight': 6, 'sourceIndex': 19, 'targetIndex': 5}, {'source': 'Pete', 'target': 'Ross', 'weight': 6, 'sourceIndex': 19, 'targetIndex': 4}, {'source': 'Phoebe', 'target': 'Pete', 'weight': 6, 'sourceIndex': 3, 'targetIndex': 19}, {'source': 'Frank', 'target': 'Pete', 'weight': 1, 'sourceIndex': 17, 'targetIndex': 19}, {'source': 'Kathy', 'target': 'Ross', 'weight': 7, 'sourceIndex': 20, 'targetIndex': 4}, {'source': 'Phoebe', 'target': 'Kathy', 'weight': 7, 'sourceIndex': 3, 'targetIndex': 20}, {'source': 'Gunther', 'target': 'Kathy', 'weight': 3, 'sourceIndex': 14, 'targetIndex': 20}, {'source': 'Rachel', 'target': 'Kathy', 'weight': 7, 'sourceIndex': 5, 'targetIndex': 20}, {'source': 'Chandler', 'target': 'Kathy', 'weight': 7, 'sourceIndex': 2, 'targetIndex': 20}, {'source': 'Monica', 'target': 'Kathy', 'weight': 7, 'sourceIndex': 0, 'targetIndex': 20}, {'source': 'Joey', 'target': 'Kathy', 'weight': 7, 'sourceIndex': 1, 'targetIndex': 20}, {'source': 'Joshua', 'target': 'Chandler', 'weight': 5, 'sourceIndex': 21, 'targetIndex': 2}, {'source': 'Joshua', 'target': 'Ross', 'weight': 5, 'sourceIndex': 21, 'targetIndex': 4}, {'source': 'Joshua', 'target': 'Kathy', 'weight': 1, 'sourceIndex': 21, 'targetIndex': 20}, {'source': 'Joshua', 'target': 'Phoebe', 'weight': 5, 'sourceIndex': 21, 'targetIndex': 3}, {'source': 'Monica', 'target': 'Joshua', 'weight': 5, 'sourceIndex': 0, 'targetIndex': 21}, {'source': 'Joshua', 'target': 'Rachel', 'weight': 5, 'sourceIndex': 21, 'targetIndex': 5}, {'source': 'Joshua', 'target': 'Joey', 'weight': 5, 'sourceIndex': 21, 'targetIndex': 1}, {'source': 'Emily', 'target': 'Phoebe', 'weight': 12, 'sourceIndex': 22, 'targetIndex': 3}, {'source': 'Emily', 'target': 'Joey', 'weight': 12, 'sourceIndex': 22, 'targetIndex': 1}, {'source': 'Monica', 'target': 'Emily', 'weight': 12, 'sourceIndex': 0, 'targetIndex': 22}, {'source': 'Emily', 'target': 'Ross', 'weight': 12, 'sourceIndex': 22, 'targetIndex': 4}, {'source': 'Emily', 'target': 'Chandler', 'weight': 12, 'sourceIndex': 22, 'targetIndex': 2}, {'source': 'Emily', 'target': 'Rachel', 'weight': 12, 'sourceIndex': 22, 'targetIndex': 5}, {'source': 'Emily', 'target': 'Joshua', 'weight': 3, 'sourceIndex': 22, 'targetIndex': 21}, {'source': 'Janice', 'target': 'Emily', 'weight': 1, 'sourceIndex': 13, 'targetIndex': 22}, {'source': 'Emily', 'target': 'Gunther', 'weight': 4, 'sourceIndex': 22, 'targetIndex': 14}, {'source': 'Gunther', 'target': 'Joshua', 'weight': 2, 'sourceIndex': 14, 'targetIndex': 21}, {'source': 'Frank', 'target': 'Emily', 'weight': 1, 'sourceIndex': 17, 'targetIndex': 22}, {'source': 'Emily', 'target': 'Carol', 'weight': 1, 'sourceIndex': 22, 'targetIndex': 7}, {'source': 'Emily', 'target': 'Susan', 'weight': 1, 'sourceIndex': 22, 'targetIndex': 10}, {'source': 'Joshua', 'target': 'Carol', 'weight': 1, 'sourceIndex': 21, 'targetIndex': 7}, {'source': 'Joshua', 'target': 'Susan', 'weight': 1, 'sourceIndex': 21, 'targetIndex': 10}, {'source': 'Emily', 'target': 'Mrs. Geller', 'weight': 3, 'sourceIndex': 22, 'targetIndex': 8}, {'source': 'Emily', 'target': 'Mr. Geller', 'weight': 3, 'sourceIndex': 22, 'targetIndex': 9}, {'source': 'Gunther', 'target': 'Mr. Geller', 'weight': 2, 'sourceIndex': 14, 'targetIndex': 9}, {'source': 'Elizabeth', 'target': 'Joey', 'weight': 6, 'sourceIndex': 23, 'targetIndex': 1}, {'source': 'Elizabeth', 'target': 'Chandler', 'weight': 6, 'sourceIndex': 23, 'targetIndex': 2}, {'source': 'Monica', 'target': 'Elizabeth', 'weight': 6, 'sourceIndex': 0, 'targetIndex': 23}, {'source': 'Elizabeth', 'target': 'Ross', 'weight': 6, 'sourceIndex': 23, 'targetIndex': 4}, {'source': 'Phoebe', 'target': 'Elizabeth', 'weight': 6, 'sourceIndex': 3, 'targetIndex': 23}, {'source': 'Elizabeth', 'target': 'Rachel', 'weight': 6, 'sourceIndex': 23, 'targetIndex': 5}, {'source': 'Elizabeth', 'target': 'Ben', 'weight': 1, 'sourceIndex': 23, 'targetIndex': 16}, {'source': 'Gary', 'target': 'Joey', 'weight': 5, 'sourceIndex': 24, 'targetIndex': 1}, {'source': 'Gary', 'target': 'Chandler', 'weight': 5, 'sourceIndex': 24, 'targetIndex': 2}, {'source': 'Monica', 'target': 'Gary', 'weight': 5, 'sourceIndex': 0, 'targetIndex': 24}, {'source': 'Gary', 'target': 'Rachel', 'weight': 5, 'sourceIndex': 24, 'targetIndex': 5}, {'source': 'Gary', 'target': 'Phoebe', 'weight': 5, 'sourceIndex': 24, 'targetIndex': 3}, {'source': 'Gary', 'target': 'Ross', 'weight': 5, 'sourceIndex': 24, 'targetIndex': 4}, {'source': 'Emily', 'target': 'Gary', 'weight': 1, 'sourceIndex': 22, 'targetIndex': 24}, {'source': 'Gunther', 'target': 'Gary', 'weight': 1, 'sourceIndex': 14, 'targetIndex': 24}, {'source': 'Janine', 'target': 'Phoebe', 'weight': 6, 'sourceIndex': 25, 'targetIndex': 3}, {'source': 'Janine', 'target': 'Rachel', 'weight': 6, 'sourceIndex': 25, 'targetIndex': 5}, {'source': 'Janine', 'target': 'Ross', 'weight': 6, 'sourceIndex': 25, 'targetIndex': 4}, {'source': 'Janine', 'target': 'Chandler', 'weight': 6, 'sourceIndex': 25, 'targetIndex': 2}, {'source': 'Monica', 'target': 'Janine', 'weight': 6, 'sourceIndex': 0, 'targetIndex': 25}, {'source': 'Janine', 'target': 'Joey', 'weight': 6, 'sourceIndex': 25, 'targetIndex': 1}, {'source': 'Janine', 'target': 'Mrs. Geller', 'weight': 1, 'sourceIndex': 25, 'targetIndex': 8}, {'source': 'Janine', 'target': 'Mr. Geller', 'weight': 1, 'sourceIndex': 25, 'targetIndex': 9}, {'source': 'Gunther', 'target': 'Jill', 'weight': 3, 'sourceIndex': 14, 'targetIndex': 11}, {'source': 'Elizabeth', 'target': 'Paul', 'weight': 2, 'sourceIndex': 23, 'targetIndex': 6}, {'source': 'Gunther', 'target': 'Paul', 'weight': 2, 'sourceIndex': 14, 'targetIndex': 6}, {'source': 'Gunther', 'target': 'Elizabeth', 'weight': 1, 'sourceIndex': 14, 'targetIndex': 23}, {'source': 'Richard', 'target': 'Elizabeth', 'weight': 1, 'sourceIndex': 15, 'targetIndex': 23}, {'source': 'Joey', 'target': 'Tag', 'weight': 7, 'sourceIndex': 1, 'targetIndex': 26}, {'source': 'Monica', 'target': 'Tag', 'weight': 7, 'sourceIndex': 0, 'targetIndex': 26}, {'source': 'Chandler', 'target': 'Tag', 'weight': 7, 'sourceIndex': 2, 'targetIndex': 26}, {'source': 'Tag', 'target': 'Ross', 'weight': 7, 'sourceIndex': 26, 'targetIndex': 4}, {'source': 'Rachel', 'target': 'Tag', 'weight': 7, 'sourceIndex': 5, 'targetIndex': 26}, {'source': 'Phoebe', 'target': 'Tag', 'weight': 7, 'sourceIndex': 3, 'targetIndex': 26}, {'source': 'Tag', 'target': 'Kathy', 'weight': 1, 'sourceIndex': 26, 'targetIndex': 20}, {'source': 'Tag', 'target': 'Ben', 'weight': 1, 'sourceIndex': 26, 'targetIndex': 16}, {'source': 'Gary', 'target': 'Ben', 'weight': 1, 'sourceIndex': 24, 'targetIndex': 16}, {'source': 'Gary', 'target': 'Tag', 'weight': 1, 'sourceIndex': 24, 'targetIndex': 26}, {'source': 'Mrs. Geller', 'target': 'Tag', 'weight': 1, 'sourceIndex': 8, 'targetIndex': 26}, {'source': 'Mr. Geller', 'target': 'Tag', 'weight': 1, 'sourceIndex': 9, 'targetIndex': 26}, {'source': 'Monica', 'target': 'Mona', 'weight': 7, 'sourceIndex': 0, 'targetIndex': 27}, {'source': 'Mona', 'target': 'Ross', 'weight': 7, 'sourceIndex': 27, 'targetIndex': 4}, {'source': 'Joey', 'target': 'Mona', 'weight': 7, 'sourceIndex': 1, 'targetIndex': 27}, {'source': 'Phoebe', 'target': 'Mona', 'weight': 7, 'sourceIndex': 3, 'targetIndex': 27}, {'source': 'Chandler', 'target': 'Mona', 'weight': 7, 'sourceIndex': 2, 'targetIndex': 27}, {'source': 'Rachel', 'target': 'Mona', 'weight': 7, 'sourceIndex': 5, 'targetIndex': 27}, {'source': 'Mr. Geller', 'target': 'Mona', 'weight': 1, 'sourceIndex': 9, 'targetIndex': 27}, {'source': 'Gunther', 'target': 'Mona', 'weight': 2, 'sourceIndex': 14, 'targetIndex': 27}, {'source': 'Gunther', 'target': 'Mike', 'weight': 3, 'sourceIndex': 14, 'targetIndex': 18}, {'source': 'Gunther', 'target': 'Janine', 'weight': 1, 'sourceIndex': 14, 'targetIndex': 25}, {'source': 'Mike', 'target': 'Jill', 'weight': 1, 'sourceIndex': 18, 'targetIndex': 11}, {'source': 'Janine', 'target': 'Mike', 'weight': 1, 'sourceIndex': 25, 'targetIndex': 18}, {'source': 'Janine', 'target': 'Jill', 'weight': 1, 'sourceIndex': 25, 'targetIndex': 11}, {'source': 'David', 'target': 'Mike', 'weight': 2, 'sourceIndex': 12, 'targetIndex': 18}, {'source': 'Monica', 'target': 'Amy', 'weight': 2, 'sourceIndex': 0, 'targetIndex': 28}, {'source': 'Amy', 'target': 'Chandler', 'weight': 2, 'sourceIndex': 28, 'targetIndex': 2}, {'source': 'Amy', 'target': 'Joey', 'weight': 2, 'sourceIndex': 28, 'targetIndex': 1}, {'source': 'Amy', 'target': 'Ross', 'weight': 2, 'sourceIndex': 28, 'targetIndex': 4}, {'source': 'Amy', 'target': 'Rachel', 'weight': 2, 'sourceIndex': 28, 'targetIndex': 5}, {'source': 'Amy', 'target': 'Phoebe', 'weight': 2, 'sourceIndex': 28, 'targetIndex': 3}, {'source': 'Charlie', 'target': 'Joey', 'weight': 8, 'sourceIndex': 29, 'targetIndex': 1}, {'source': 'Charlie', 'target': 'Chandler', 'weight': 8, 'sourceIndex': 29, 'targetIndex': 2}, {'source': 'Charlie', 'target': 'Phoebe', 'weight': 8, 'sourceIndex': 29, 'targetIndex': 3}, {'source': 'Monica', 'target': 'Charlie', 'weight': 8, 'sourceIndex': 0, 'targetIndex': 29}, {'source': 'Charlie', 'target': 'Ross', 'weight': 8, 'sourceIndex': 29, 'targetIndex': 4}, {'source': 'Charlie', 'target': 'Rachel', 'weight': 8, 'sourceIndex': 29, 'targetIndex': 5}, {'source': 'Charlie', 'target': 'Gunther', 'weight': 1, 'sourceIndex': 29, 'targetIndex': 14}, {'source': 'Charlie', 'target': 'Janice', 'weight': 1, 'sourceIndex': 29, 'targetIndex': 13}, {'source': 'Charlie', 'target': 'David', 'weight': 2, 'sourceIndex': 29, 'targetIndex': 12}, {'source': 'Charlie', 'target': 'Mike', 'weight': 3, 'sourceIndex': 29, 'targetIndex': 18}, {'source': 'Charlie', 'target': 'Amy', 'weight': 1, 'sourceIndex': 29, 'targetIndex': 28}, {'source': 'Amy', 'target': 'Mike', 'weight': 1, 'sourceIndex': 28, 'targetIndex': 18}]\n"
     ]
    }
   ],
   "source": [
    "print(edges)"
   ]
  },
  {
   "cell_type": "code",
   "execution_count": 20,
   "metadata": {},
   "outputs": [],
   "source": [
    "final_dataset = {\n",
    "    \"nodes\": nodes,\n",
    "    \"edges\": edges\n",
    "}"
   ]
  },
  {
   "cell_type": "code",
   "execution_count": 21,
   "metadata": {},
   "outputs": [
    {
     "name": "stdout",
     "output_type": "stream",
     "text": [
      "{'nodes': [{'Name': 'Monica', 'Weight': 225}, {'Name': 'Joey', 'Weight': 225}, {'Name': 'Chandler', 'Weight': 225}, {'Name': 'Phoebe', 'Weight': 225}, {'Name': 'Ross', 'Weight': 225}, {'Name': 'Rachel', 'Weight': 225}, {'Name': 'Paul', 'Weight': 4}, {'Name': 'Carol', 'Weight': 15}, {'Name': 'Mrs. Geller', 'Weight': 17}, {'Name': 'Mr. Geller', 'Weight': 19}, {'Name': 'Susan', 'Weight': 11}, {'Name': 'Jill', 'Weight': 4}, {'Name': 'David', 'Weight': 5}, {'Name': 'Janice', 'Weight': 18}, {'Name': 'Gunther', 'Weight': 51}, {'Name': 'Richard', 'Weight': 9}, {'Name': 'Ben', 'Weight': 10}, {'Name': 'Frank', 'Weight': 6}, {'Name': 'Mike', 'Weight': 18}, {'Name': 'Pete', 'Weight': 6}, {'Name': 'Kathy', 'Weight': 7}, {'Name': 'Joshua', 'Weight': 5}, {'Name': 'Emily', 'Weight': 12}, {'Name': 'Elizabeth', 'Weight': 6}, {'Name': 'Gary', 'Weight': 5}, {'Name': 'Janine', 'Weight': 6}, {'Name': 'Tag', 'Weight': 7}, {'Name': 'Mona', 'Weight': 7}, {'Name': 'Amy', 'Weight': 2}, {'Name': 'Charlie', 'Weight': 8}], 'edges': [{'source': 'Monica', 'target': 'Joey', 'weight': 225, 'sourceIndex': 0, 'targetIndex': 1}, {'source': 'Monica', 'target': 'Chandler', 'weight': 225, 'sourceIndex': 0, 'targetIndex': 2}, {'source': 'Monica', 'target': 'Phoebe', 'weight': 225, 'sourceIndex': 0, 'targetIndex': 3}, {'source': 'Monica', 'target': 'Ross', 'weight': 225, 'sourceIndex': 0, 'targetIndex': 4}, {'source': 'Monica', 'target': 'Rachel', 'weight': 225, 'sourceIndex': 0, 'targetIndex': 5}, {'source': 'Monica', 'target': 'Paul', 'weight': 4, 'sourceIndex': 0, 'targetIndex': 6}, {'source': 'Joey', 'target': 'Chandler', 'weight': 225, 'sourceIndex': 1, 'targetIndex': 2}, {'source': 'Phoebe', 'target': 'Joey', 'weight': 225, 'sourceIndex': 3, 'targetIndex': 1}, {'source': 'Joey', 'target': 'Ross', 'weight': 225, 'sourceIndex': 1, 'targetIndex': 4}, {'source': 'Joey', 'target': 'Rachel', 'weight': 225, 'sourceIndex': 1, 'targetIndex': 5}, {'source': 'Joey', 'target': 'Paul', 'weight': 4, 'sourceIndex': 1, 'targetIndex': 6}, {'source': 'Phoebe', 'target': 'Chandler', 'weight': 225, 'sourceIndex': 3, 'targetIndex': 2}, {'source': 'Chandler', 'target': 'Ross', 'weight': 225, 'sourceIndex': 2, 'targetIndex': 4}, {'source': 'Rachel', 'target': 'Chandler', 'weight': 225, 'sourceIndex': 5, 'targetIndex': 2}, {'source': 'Paul', 'target': 'Chandler', 'weight': 4, 'sourceIndex': 6, 'targetIndex': 2}, {'source': 'Phoebe', 'target': 'Ross', 'weight': 225, 'sourceIndex': 3, 'targetIndex': 4}, {'source': 'Phoebe', 'target': 'Rachel', 'weight': 225, 'sourceIndex': 3, 'targetIndex': 5}, {'source': 'Phoebe', 'target': 'Paul', 'weight': 4, 'sourceIndex': 3, 'targetIndex': 6}, {'source': 'Rachel', 'target': 'Ross', 'weight': 225, 'sourceIndex': 5, 'targetIndex': 4}, {'source': 'Paul', 'target': 'Ross', 'weight': 4, 'sourceIndex': 6, 'targetIndex': 4}, {'source': 'Rachel', 'target': 'Paul', 'weight': 4, 'sourceIndex': 5, 'targetIndex': 6}, {'source': 'Monica', 'target': 'Carol', 'weight': 15, 'sourceIndex': 0, 'targetIndex': 7}, {'source': 'Monica', 'target': 'Mrs. Geller', 'weight': 17, 'sourceIndex': 0, 'targetIndex': 8}, {'source': 'Monica', 'target': 'Mr. Geller', 'weight': 19, 'sourceIndex': 0, 'targetIndex': 9}, {'source': 'Monica', 'target': 'Susan', 'weight': 11, 'sourceIndex': 0, 'targetIndex': 10}, {'source': 'Joey', 'target': 'Carol', 'weight': 15, 'sourceIndex': 1, 'targetIndex': 7}, {'source': 'Joey', 'target': 'Mrs. Geller', 'weight': 17, 'sourceIndex': 1, 'targetIndex': 8}, {'source': 'Joey', 'target': 'Mr. Geller', 'weight': 19, 'sourceIndex': 1, 'targetIndex': 9}, {'source': 'Joey', 'target': 'Susan', 'weight': 11, 'sourceIndex': 1, 'targetIndex': 10}, {'source': 'Phoebe', 'target': 'Carol', 'weight': 15, 'sourceIndex': 3, 'targetIndex': 7}, {'source': 'Phoebe', 'target': 'Mrs. Geller', 'weight': 17, 'sourceIndex': 3, 'targetIndex': 8}, {'source': 'Phoebe', 'target': 'Mr. Geller', 'weight': 19, 'sourceIndex': 3, 'targetIndex': 9}, {'source': 'Phoebe', 'target': 'Susan', 'weight': 11, 'sourceIndex': 3, 'targetIndex': 10}, {'source': 'Rachel', 'target': 'Carol', 'weight': 15, 'sourceIndex': 5, 'targetIndex': 7}, {'source': 'Rachel', 'target': 'Mrs. Geller', 'weight': 17, 'sourceIndex': 5, 'targetIndex': 8}, {'source': 'Rachel', 'target': 'Mr. Geller', 'weight': 19, 'sourceIndex': 5, 'targetIndex': 9}, {'source': 'Rachel', 'target': 'Susan', 'weight': 11, 'sourceIndex': 5, 'targetIndex': 10}, {'source': 'Carol', 'target': 'Chandler', 'weight': 15, 'sourceIndex': 7, 'targetIndex': 2}, {'source': 'Mrs. Geller', 'target': 'Chandler', 'weight': 17, 'sourceIndex': 8, 'targetIndex': 2}, {'source': 'Mr. Geller', 'target': 'Chandler', 'weight': 19, 'sourceIndex': 9, 'targetIndex': 2}, {'source': 'Susan', 'target': 'Chandler', 'weight': 11, 'sourceIndex': 10, 'targetIndex': 2}, {'source': 'Carol', 'target': 'Ross', 'weight': 15, 'sourceIndex': 7, 'targetIndex': 4}, {'source': 'Mrs. Geller', 'target': 'Ross', 'weight': 17, 'sourceIndex': 8, 'targetIndex': 4}, {'source': 'Mr. Geller', 'target': 'Ross', 'weight': 19, 'sourceIndex': 9, 'targetIndex': 4}, {'source': 'Susan', 'target': 'Ross', 'weight': 11, 'sourceIndex': 10, 'targetIndex': 4}, {'source': 'Mrs. Geller', 'target': 'Carol', 'weight': 1, 'sourceIndex': 8, 'targetIndex': 7}, {'source': 'Mr. Geller', 'target': 'Carol', 'weight': 1, 'sourceIndex': 9, 'targetIndex': 7}, {'source': 'Susan', 'target': 'Carol', 'weight': 11, 'sourceIndex': 10, 'targetIndex': 7}, {'source': 'Mr. Geller', 'target': 'Mrs. Geller', 'weight': 14, 'sourceIndex': 9, 'targetIndex': 8}, {'source': 'Susan', 'target': 'Mrs. Geller', 'weight': 1, 'sourceIndex': 10, 'targetIndex': 8}, {'source': 'Mr. Geller', 'target': 'Susan', 'weight': 1, 'sourceIndex': 9, 'targetIndex': 10}, {'source': 'Rachel', 'target': 'Jill', 'weight': 4, 'sourceIndex': 5, 'targetIndex': 11}, {'source': 'Phoebe', 'target': 'Jill', 'weight': 4, 'sourceIndex': 3, 'targetIndex': 11}, {'source': 'Jill', 'target': 'Chandler', 'weight': 4, 'sourceIndex': 11, 'targetIndex': 2}, {'source': 'Monica', 'target': 'Jill', 'weight': 4, 'sourceIndex': 0, 'targetIndex': 11}, {'source': 'Joey', 'target': 'Jill', 'weight': 4, 'sourceIndex': 1, 'targetIndex': 11}, {'source': 'Jill', 'target': 'Ross', 'weight': 4, 'sourceIndex': 11, 'targetIndex': 4}, {'source': 'David', 'target': 'Ross', 'weight': 5, 'sourceIndex': 12, 'targetIndex': 4}, {'source': 'Janice', 'target': 'Ross', 'weight': 18, 'sourceIndex': 13, 'targetIndex': 4}, {'source': 'Monica', 'target': 'David', 'weight': 5, 'sourceIndex': 0, 'targetIndex': 12}, {'source': 'Monica', 'target': 'Janice', 'weight': 18, 'sourceIndex': 0, 'targetIndex': 13}, {'source': 'David', 'target': 'Rachel', 'weight': 5, 'sourceIndex': 12, 'targetIndex': 5}, {'source': 'Janice', 'target': 'Rachel', 'weight': 18, 'sourceIndex': 13, 'targetIndex': 5}, {'source': 'Phoebe', 'target': 'David', 'weight': 5, 'sourceIndex': 3, 'targetIndex': 12}, {'source': 'Janice', 'target': 'Phoebe', 'weight': 18, 'sourceIndex': 13, 'targetIndex': 3}, {'source': 'David', 'target': 'Chandler', 'weight': 5, 'sourceIndex': 12, 'targetIndex': 2}, {'source': 'Janice', 'target': 'Chandler', 'weight': 18, 'sourceIndex': 13, 'targetIndex': 2}, {'source': 'David', 'target': 'Joey', 'weight': 5, 'sourceIndex': 12, 'targetIndex': 1}, {'source': 'Janice', 'target': 'Joey', 'weight': 18, 'sourceIndex': 13, 'targetIndex': 1}, {'source': 'Janice', 'target': 'David', 'weight': 1, 'sourceIndex': 13, 'targetIndex': 12}, {'source': 'Janice', 'target': 'Carol', 'weight': 2, 'sourceIndex': 13, 'targetIndex': 7}, {'source': 'Gunther', 'target': 'Phoebe', 'weight': 51, 'sourceIndex': 14, 'targetIndex': 3}, {'source': 'Gunther', 'target': 'Joey', 'weight': 51, 'sourceIndex': 14, 'targetIndex': 1}, {'source': 'Gunther', 'target': 'Chandler', 'weight': 51, 'sourceIndex': 14, 'targetIndex': 2}, {'source': 'Gunther', 'target': 'Rachel', 'weight': 51, 'sourceIndex': 14, 'targetIndex': 5}, {'source': 'Monica', 'target': 'Gunther', 'weight': 51, 'sourceIndex': 0, 'targetIndex': 14}, {'source': 'Gunther', 'target': 'Ross', 'weight': 51, 'sourceIndex': 14, 'targetIndex': 4}, {'source': 'Richard', 'target': 'Joey', 'weight': 9, 'sourceIndex': 15, 'targetIndex': 1}, {'source': 'Richard', 'target': 'Chandler', 'weight': 9, 'sourceIndex': 15, 'targetIndex': 2}, {'source': 'Richard', 'target': 'Phoebe', 'weight': 9, 'sourceIndex': 15, 'targetIndex': 3}, {'source': 'Richard', 'target': 'Rachel', 'weight': 9, 'sourceIndex': 15, 'targetIndex': 5}, {'source': 'Monica', 'target': 'Richard', 'weight': 9, 'sourceIndex': 0, 'targetIndex': 15}, {'source': 'Richard', 'target': 'Ross', 'weight': 9, 'sourceIndex': 15, 'targetIndex': 4}, {'source': 'Richard', 'target': 'Mrs. Geller', 'weight': 2, 'sourceIndex': 15, 'targetIndex': 8}, {'source': 'Richard', 'target': 'Mr. Geller', 'weight': 2, 'sourceIndex': 15, 'targetIndex': 9}, {'source': 'Phoebe', 'target': 'Ben', 'weight': 10, 'sourceIndex': 3, 'targetIndex': 16}, {'source': 'Richard', 'target': 'Carol', 'weight': 1, 'sourceIndex': 15, 'targetIndex': 7}, {'source': 'Richard', 'target': 'Susan', 'weight': 1, 'sourceIndex': 15, 'targetIndex': 10}, {'source': 'Richard', 'target': 'Ben', 'weight': 1, 'sourceIndex': 15, 'targetIndex': 16}, {'source': 'Rachel', 'target': 'Ben', 'weight': 10, 'sourceIndex': 5, 'targetIndex': 16}, {'source': 'Ben', 'target': 'Ross', 'weight': 10, 'sourceIndex': 16, 'targetIndex': 4}, {'source': 'Monica', 'target': 'Ben', 'weight': 10, 'sourceIndex': 0, 'targetIndex': 16}, {'source': 'Joey', 'target': 'Ben', 'weight': 10, 'sourceIndex': 1, 'targetIndex': 16}, {'source': 'Chandler', 'target': 'Ben', 'weight': 10, 'sourceIndex': 2, 'targetIndex': 16}, {'source': 'Carol', 'target': 'Ben', 'weight': 4, 'sourceIndex': 7, 'targetIndex': 16}, {'source': 'Susan', 'target': 'Ben', 'weight': 2, 'sourceIndex': 10, 'targetIndex': 16}, {'source': 'Frank', 'target': 'Joey', 'weight': 6, 'sourceIndex': 17, 'targetIndex': 1}, {'source': 'Monica', 'target': 'Frank', 'weight': 6, 'sourceIndex': 0, 'targetIndex': 17}, {'source': 'Frank', 'target': 'Rachel', 'weight': 6, 'sourceIndex': 17, 'targetIndex': 5}, {'source': 'Frank', 'target': 'Ross', 'weight': 6, 'sourceIndex': 17, 'targetIndex': 4}, {'source': 'Frank', 'target': 'Phoebe', 'weight': 6, 'sourceIndex': 17, 'targetIndex': 3}, {'source': 'Frank', 'target': 'Chandler', 'weight': 6, 'sourceIndex': 17, 'targetIndex': 2}, {'source': 'Gunther', 'target': 'Frank', 'weight': 2, 'sourceIndex': 14, 'targetIndex': 17}, {'source': 'Gunther', 'target': 'Mrs. Geller', 'weight': 3, 'sourceIndex': 14, 'targetIndex': 8}, {'source': 'Richard', 'target': 'Janice', 'weight': 1, 'sourceIndex': 15, 'targetIndex': 13}, {'source': 'Janice', 'target': 'Mr. Geller', 'weight': 1, 'sourceIndex': 13, 'targetIndex': 9}, {'source': 'Janice', 'target': 'Mrs. Geller', 'weight': 2, 'sourceIndex': 13, 'targetIndex': 8}, {'source': 'Phoebe', 'target': 'Mike', 'weight': 18, 'sourceIndex': 3, 'targetIndex': 18}, {'source': 'Joey', 'target': 'Mike', 'weight': 18, 'sourceIndex': 1, 'targetIndex': 18}, {'source': 'Mike', 'target': 'Rachel', 'weight': 18, 'sourceIndex': 18, 'targetIndex': 5}, {'source': 'Mike', 'target': 'Ross', 'weight': 18, 'sourceIndex': 18, 'targetIndex': 4}, {'source': 'Mike', 'target': 'Chandler', 'weight': 18, 'sourceIndex': 18, 'targetIndex': 2}, {'source': 'Janice', 'target': 'Mike', 'weight': 1, 'sourceIndex': 13, 'targetIndex': 18}, {'source': 'Monica', 'target': 'Mike', 'weight': 18, 'sourceIndex': 0, 'targetIndex': 18}, {'source': 'Mike', 'target': 'Carol', 'weight': 1, 'sourceIndex': 18, 'targetIndex': 7}, {'source': 'Mike', 'target': 'Susan', 'weight': 1, 'sourceIndex': 18, 'targetIndex': 10}, {'source': 'Janice', 'target': 'Susan', 'weight': 1, 'sourceIndex': 13, 'targetIndex': 10}, {'source': 'Gunther', 'target': 'Janice', 'weight': 4, 'sourceIndex': 14, 'targetIndex': 13}, {'source': 'Gunther', 'target': 'Ben', 'weight': 2, 'sourceIndex': 14, 'targetIndex': 16}, {'source': 'Janice', 'target': 'Ben', 'weight': 1, 'sourceIndex': 13, 'targetIndex': 16}, {'source': 'Richard', 'target': 'Gunther', 'weight': 2, 'sourceIndex': 15, 'targetIndex': 14}, {'source': 'Monica', 'target': 'Pete', 'weight': 6, 'sourceIndex': 0, 'targetIndex': 19}, {'source': 'Pete', 'target': 'Joey', 'weight': 6, 'sourceIndex': 19, 'targetIndex': 1}, {'source': 'Gunther', 'target': 'Pete', 'weight': 4, 'sourceIndex': 14, 'targetIndex': 19}, {'source': 'Pete', 'target': 'Chandler', 'weight': 6, 'sourceIndex': 19, 'targetIndex': 2}, {'source': 'Pete', 'target': 'Rachel', 'weight': 6, 'sourceIndex': 19, 'targetIndex': 5}, {'source': 'Pete', 'target': 'Ross', 'weight': 6, 'sourceIndex': 19, 'targetIndex': 4}, {'source': 'Phoebe', 'target': 'Pete', 'weight': 6, 'sourceIndex': 3, 'targetIndex': 19}, {'source': 'Frank', 'target': 'Pete', 'weight': 1, 'sourceIndex': 17, 'targetIndex': 19}, {'source': 'Kathy', 'target': 'Ross', 'weight': 7, 'sourceIndex': 20, 'targetIndex': 4}, {'source': 'Phoebe', 'target': 'Kathy', 'weight': 7, 'sourceIndex': 3, 'targetIndex': 20}, {'source': 'Gunther', 'target': 'Kathy', 'weight': 3, 'sourceIndex': 14, 'targetIndex': 20}, {'source': 'Rachel', 'target': 'Kathy', 'weight': 7, 'sourceIndex': 5, 'targetIndex': 20}, {'source': 'Chandler', 'target': 'Kathy', 'weight': 7, 'sourceIndex': 2, 'targetIndex': 20}, {'source': 'Monica', 'target': 'Kathy', 'weight': 7, 'sourceIndex': 0, 'targetIndex': 20}, {'source': 'Joey', 'target': 'Kathy', 'weight': 7, 'sourceIndex': 1, 'targetIndex': 20}, {'source': 'Joshua', 'target': 'Chandler', 'weight': 5, 'sourceIndex': 21, 'targetIndex': 2}, {'source': 'Joshua', 'target': 'Ross', 'weight': 5, 'sourceIndex': 21, 'targetIndex': 4}, {'source': 'Joshua', 'target': 'Kathy', 'weight': 1, 'sourceIndex': 21, 'targetIndex': 20}, {'source': 'Joshua', 'target': 'Phoebe', 'weight': 5, 'sourceIndex': 21, 'targetIndex': 3}, {'source': 'Monica', 'target': 'Joshua', 'weight': 5, 'sourceIndex': 0, 'targetIndex': 21}, {'source': 'Joshua', 'target': 'Rachel', 'weight': 5, 'sourceIndex': 21, 'targetIndex': 5}, {'source': 'Joshua', 'target': 'Joey', 'weight': 5, 'sourceIndex': 21, 'targetIndex': 1}, {'source': 'Emily', 'target': 'Phoebe', 'weight': 12, 'sourceIndex': 22, 'targetIndex': 3}, {'source': 'Emily', 'target': 'Joey', 'weight': 12, 'sourceIndex': 22, 'targetIndex': 1}, {'source': 'Monica', 'target': 'Emily', 'weight': 12, 'sourceIndex': 0, 'targetIndex': 22}, {'source': 'Emily', 'target': 'Ross', 'weight': 12, 'sourceIndex': 22, 'targetIndex': 4}, {'source': 'Emily', 'target': 'Chandler', 'weight': 12, 'sourceIndex': 22, 'targetIndex': 2}, {'source': 'Emily', 'target': 'Rachel', 'weight': 12, 'sourceIndex': 22, 'targetIndex': 5}, {'source': 'Emily', 'target': 'Joshua', 'weight': 3, 'sourceIndex': 22, 'targetIndex': 21}, {'source': 'Janice', 'target': 'Emily', 'weight': 1, 'sourceIndex': 13, 'targetIndex': 22}, {'source': 'Emily', 'target': 'Gunther', 'weight': 4, 'sourceIndex': 22, 'targetIndex': 14}, {'source': 'Gunther', 'target': 'Joshua', 'weight': 2, 'sourceIndex': 14, 'targetIndex': 21}, {'source': 'Frank', 'target': 'Emily', 'weight': 1, 'sourceIndex': 17, 'targetIndex': 22}, {'source': 'Emily', 'target': 'Carol', 'weight': 1, 'sourceIndex': 22, 'targetIndex': 7}, {'source': 'Emily', 'target': 'Susan', 'weight': 1, 'sourceIndex': 22, 'targetIndex': 10}, {'source': 'Joshua', 'target': 'Carol', 'weight': 1, 'sourceIndex': 21, 'targetIndex': 7}, {'source': 'Joshua', 'target': 'Susan', 'weight': 1, 'sourceIndex': 21, 'targetIndex': 10}, {'source': 'Emily', 'target': 'Mrs. Geller', 'weight': 3, 'sourceIndex': 22, 'targetIndex': 8}, {'source': 'Emily', 'target': 'Mr. Geller', 'weight': 3, 'sourceIndex': 22, 'targetIndex': 9}, {'source': 'Gunther', 'target': 'Mr. Geller', 'weight': 2, 'sourceIndex': 14, 'targetIndex': 9}, {'source': 'Elizabeth', 'target': 'Joey', 'weight': 6, 'sourceIndex': 23, 'targetIndex': 1}, {'source': 'Elizabeth', 'target': 'Chandler', 'weight': 6, 'sourceIndex': 23, 'targetIndex': 2}, {'source': 'Monica', 'target': 'Elizabeth', 'weight': 6, 'sourceIndex': 0, 'targetIndex': 23}, {'source': 'Elizabeth', 'target': 'Ross', 'weight': 6, 'sourceIndex': 23, 'targetIndex': 4}, {'source': 'Phoebe', 'target': 'Elizabeth', 'weight': 6, 'sourceIndex': 3, 'targetIndex': 23}, {'source': 'Elizabeth', 'target': 'Rachel', 'weight': 6, 'sourceIndex': 23, 'targetIndex': 5}, {'source': 'Elizabeth', 'target': 'Ben', 'weight': 1, 'sourceIndex': 23, 'targetIndex': 16}, {'source': 'Gary', 'target': 'Joey', 'weight': 5, 'sourceIndex': 24, 'targetIndex': 1}, {'source': 'Gary', 'target': 'Chandler', 'weight': 5, 'sourceIndex': 24, 'targetIndex': 2}, {'source': 'Monica', 'target': 'Gary', 'weight': 5, 'sourceIndex': 0, 'targetIndex': 24}, {'source': 'Gary', 'target': 'Rachel', 'weight': 5, 'sourceIndex': 24, 'targetIndex': 5}, {'source': 'Gary', 'target': 'Phoebe', 'weight': 5, 'sourceIndex': 24, 'targetIndex': 3}, {'source': 'Gary', 'target': 'Ross', 'weight': 5, 'sourceIndex': 24, 'targetIndex': 4}, {'source': 'Emily', 'target': 'Gary', 'weight': 1, 'sourceIndex': 22, 'targetIndex': 24}, {'source': 'Gunther', 'target': 'Gary', 'weight': 1, 'sourceIndex': 14, 'targetIndex': 24}, {'source': 'Janine', 'target': 'Phoebe', 'weight': 6, 'sourceIndex': 25, 'targetIndex': 3}, {'source': 'Janine', 'target': 'Rachel', 'weight': 6, 'sourceIndex': 25, 'targetIndex': 5}, {'source': 'Janine', 'target': 'Ross', 'weight': 6, 'sourceIndex': 25, 'targetIndex': 4}, {'source': 'Janine', 'target': 'Chandler', 'weight': 6, 'sourceIndex': 25, 'targetIndex': 2}, {'source': 'Monica', 'target': 'Janine', 'weight': 6, 'sourceIndex': 0, 'targetIndex': 25}, {'source': 'Janine', 'target': 'Joey', 'weight': 6, 'sourceIndex': 25, 'targetIndex': 1}, {'source': 'Janine', 'target': 'Mrs. Geller', 'weight': 1, 'sourceIndex': 25, 'targetIndex': 8}, {'source': 'Janine', 'target': 'Mr. Geller', 'weight': 1, 'sourceIndex': 25, 'targetIndex': 9}, {'source': 'Gunther', 'target': 'Jill', 'weight': 3, 'sourceIndex': 14, 'targetIndex': 11}, {'source': 'Elizabeth', 'target': 'Paul', 'weight': 2, 'sourceIndex': 23, 'targetIndex': 6}, {'source': 'Gunther', 'target': 'Paul', 'weight': 2, 'sourceIndex': 14, 'targetIndex': 6}, {'source': 'Gunther', 'target': 'Elizabeth', 'weight': 1, 'sourceIndex': 14, 'targetIndex': 23}, {'source': 'Richard', 'target': 'Elizabeth', 'weight': 1, 'sourceIndex': 15, 'targetIndex': 23}, {'source': 'Joey', 'target': 'Tag', 'weight': 7, 'sourceIndex': 1, 'targetIndex': 26}, {'source': 'Monica', 'target': 'Tag', 'weight': 7, 'sourceIndex': 0, 'targetIndex': 26}, {'source': 'Chandler', 'target': 'Tag', 'weight': 7, 'sourceIndex': 2, 'targetIndex': 26}, {'source': 'Tag', 'target': 'Ross', 'weight': 7, 'sourceIndex': 26, 'targetIndex': 4}, {'source': 'Rachel', 'target': 'Tag', 'weight': 7, 'sourceIndex': 5, 'targetIndex': 26}, {'source': 'Phoebe', 'target': 'Tag', 'weight': 7, 'sourceIndex': 3, 'targetIndex': 26}, {'source': 'Tag', 'target': 'Kathy', 'weight': 1, 'sourceIndex': 26, 'targetIndex': 20}, {'source': 'Tag', 'target': 'Ben', 'weight': 1, 'sourceIndex': 26, 'targetIndex': 16}, {'source': 'Gary', 'target': 'Ben', 'weight': 1, 'sourceIndex': 24, 'targetIndex': 16}, {'source': 'Gary', 'target': 'Tag', 'weight': 1, 'sourceIndex': 24, 'targetIndex': 26}, {'source': 'Mrs. Geller', 'target': 'Tag', 'weight': 1, 'sourceIndex': 8, 'targetIndex': 26}, {'source': 'Mr. Geller', 'target': 'Tag', 'weight': 1, 'sourceIndex': 9, 'targetIndex': 26}, {'source': 'Monica', 'target': 'Mona', 'weight': 7, 'sourceIndex': 0, 'targetIndex': 27}, {'source': 'Mona', 'target': 'Ross', 'weight': 7, 'sourceIndex': 27, 'targetIndex': 4}, {'source': 'Joey', 'target': 'Mona', 'weight': 7, 'sourceIndex': 1, 'targetIndex': 27}, {'source': 'Phoebe', 'target': 'Mona', 'weight': 7, 'sourceIndex': 3, 'targetIndex': 27}, {'source': 'Chandler', 'target': 'Mona', 'weight': 7, 'sourceIndex': 2, 'targetIndex': 27}, {'source': 'Rachel', 'target': 'Mona', 'weight': 7, 'sourceIndex': 5, 'targetIndex': 27}, {'source': 'Mr. Geller', 'target': 'Mona', 'weight': 1, 'sourceIndex': 9, 'targetIndex': 27}, {'source': 'Gunther', 'target': 'Mona', 'weight': 2, 'sourceIndex': 14, 'targetIndex': 27}, {'source': 'Gunther', 'target': 'Mike', 'weight': 3, 'sourceIndex': 14, 'targetIndex': 18}, {'source': 'Gunther', 'target': 'Janine', 'weight': 1, 'sourceIndex': 14, 'targetIndex': 25}, {'source': 'Mike', 'target': 'Jill', 'weight': 1, 'sourceIndex': 18, 'targetIndex': 11}, {'source': 'Janine', 'target': 'Mike', 'weight': 1, 'sourceIndex': 25, 'targetIndex': 18}, {'source': 'Janine', 'target': 'Jill', 'weight': 1, 'sourceIndex': 25, 'targetIndex': 11}, {'source': 'David', 'target': 'Mike', 'weight': 2, 'sourceIndex': 12, 'targetIndex': 18}, {'source': 'Monica', 'target': 'Amy', 'weight': 2, 'sourceIndex': 0, 'targetIndex': 28}, {'source': 'Amy', 'target': 'Chandler', 'weight': 2, 'sourceIndex': 28, 'targetIndex': 2}, {'source': 'Amy', 'target': 'Joey', 'weight': 2, 'sourceIndex': 28, 'targetIndex': 1}, {'source': 'Amy', 'target': 'Ross', 'weight': 2, 'sourceIndex': 28, 'targetIndex': 4}, {'source': 'Amy', 'target': 'Rachel', 'weight': 2, 'sourceIndex': 28, 'targetIndex': 5}, {'source': 'Amy', 'target': 'Phoebe', 'weight': 2, 'sourceIndex': 28, 'targetIndex': 3}, {'source': 'Charlie', 'target': 'Joey', 'weight': 8, 'sourceIndex': 29, 'targetIndex': 1}, {'source': 'Charlie', 'target': 'Chandler', 'weight': 8, 'sourceIndex': 29, 'targetIndex': 2}, {'source': 'Charlie', 'target': 'Phoebe', 'weight': 8, 'sourceIndex': 29, 'targetIndex': 3}, {'source': 'Monica', 'target': 'Charlie', 'weight': 8, 'sourceIndex': 0, 'targetIndex': 29}, {'source': 'Charlie', 'target': 'Ross', 'weight': 8, 'sourceIndex': 29, 'targetIndex': 4}, {'source': 'Charlie', 'target': 'Rachel', 'weight': 8, 'sourceIndex': 29, 'targetIndex': 5}, {'source': 'Charlie', 'target': 'Gunther', 'weight': 1, 'sourceIndex': 29, 'targetIndex': 14}, {'source': 'Charlie', 'target': 'Janice', 'weight': 1, 'sourceIndex': 29, 'targetIndex': 13}, {'source': 'Charlie', 'target': 'David', 'weight': 2, 'sourceIndex': 29, 'targetIndex': 12}, {'source': 'Charlie', 'target': 'Mike', 'weight': 3, 'sourceIndex': 29, 'targetIndex': 18}, {'source': 'Charlie', 'target': 'Amy', 'weight': 1, 'sourceIndex': 29, 'targetIndex': 28}, {'source': 'Amy', 'target': 'Mike', 'weight': 1, 'sourceIndex': 28, 'targetIndex': 18}]}\n"
     ]
    }
   ],
   "source": [
    "print(final_dataset)"
   ]
  },
  {
   "cell_type": "code",
   "execution_count": 22,
   "metadata": {},
   "outputs": [],
   "source": [
    "import json\n",
    "with open('friends-cooccur.json', 'w') as f:\n",
    "    json.dump(final_dataset, f, indent=4)"
   ]
  },
  {
   "cell_type": "code",
   "execution_count": null,
   "metadata": {},
   "outputs": [],
   "source": []
  },
  {
   "cell_type": "code",
   "execution_count": 23,
   "metadata": {},
   "outputs": [],
   "source": [
    "df['Season'] = df['Season'].str.extract(r'(\\d+)').astype(int)\n",
    "df['Episode'] = df['Episode'].str.extract(r'(\\d+)').astype(int)"
   ]
  },
  {
   "cell_type": "code",
   "execution_count": 24,
   "metadata": {},
   "outputs": [
    {
     "data": {
      "text/plain": [
       "3         There's nothing to tell! He's just some guy I...\n",
       "4         C'mon, you're going out with the guy! There's...\n",
       "5          So does he have a hump? A hump and a hairpiece?\n",
       "6                                 Wait, does he eat chalk?\n",
       "8         Just, 'cause, I don't want her to go through ...\n",
       "                               ...                        \n",
       "69966           Yeah! I'm going to Paris. Thank you, Ross!\n",
       "69967                           Yeah, yeah, oh! (They hug)\n",
       "69968                                Oh! Oh, I'm so happy.\n",
       "69969     Then I'm happy too. (They're still hugging - ...\n",
       "69972     Thank you all for coming. We're here today to...\n",
       "Name: Text, Length: 53329, dtype: object"
      ]
     },
     "execution_count": 24,
     "metadata": {},
     "output_type": "execute_result"
    }
   ],
   "source": [
    "df[\"Text\"]"
   ]
  },
  {
   "cell_type": "code",
   "execution_count": 25,
   "metadata": {},
   "outputs": [],
   "source": [
    "df['WordCount'] = df['Text'].apply(lambda text: len(str(text).split()))"
   ]
  },
  {
   "cell_type": "code",
   "execution_count": 26,
   "metadata": {},
   "outputs": [],
   "source": [
    "word_count_by_season = df.groupby(['Speaker', 'Season']).WordCount.sum().reset_index()"
   ]
  },
  {
   "cell_type": "code",
   "execution_count": 27,
   "metadata": {},
   "outputs": [
    {
     "name": "stdout",
     "output_type": "stream",
     "text": [
      "    Speaker  Season  WordCount\n",
      "0       Amy       9        720\n",
      "1       Amy      10        721\n",
      "2       Ben       2          5\n",
      "3       Ben       3          8\n",
      "4       Ben       5          9\n",
      "..      ...     ...        ...\n",
      "150   Susan       3         35\n",
      "151   Susan       4         70\n",
      "152   Susan       6         36\n",
      "153     Tag       7       1157\n",
      "154     Tag       8        110\n",
      "\n",
      "[155 rows x 3 columns]\n"
     ]
    }
   ],
   "source": [
    "print(word_count_by_season)"
   ]
  },
  {
   "cell_type": "code",
   "execution_count": 28,
   "metadata": {},
   "outputs": [],
   "source": [
    "unique_characters = df['Speaker'].unique()\n",
    "unique_seasons = df['Season'].unique()"
   ]
  },
  {
   "cell_type": "code",
   "execution_count": 29,
   "metadata": {},
   "outputs": [
    {
     "name": "stdout",
     "output_type": "stream",
     "text": [
      "['Monica' 'Joey' 'Chandler' 'Phoebe' 'Ross' 'Rachel' 'Paul' 'Carol'\n",
      " 'Mrs. Geller' 'Mr. Geller' 'Susan' 'Jill' 'David' 'Janice' 'Gunther'\n",
      " 'Richard' 'Ben' 'Frank' 'Mike' 'Pete' 'Kathy' 'Joshua' 'Emily'\n",
      " 'Elizabeth' 'Gary' 'Janine' 'Tag' 'Mona' 'Amy' 'Charlie']\n"
     ]
    }
   ],
   "source": [
    "print(unique_characters)"
   ]
  },
  {
   "cell_type": "code",
   "execution_count": 30,
   "metadata": {},
   "outputs": [],
   "source": [
    "import itertools\n",
    "all_combinations = pd.DataFrame(list(itertools.product(unique_characters, unique_seasons)), columns=['Speaker', 'Season'])"
   ]
  },
  {
   "cell_type": "code",
   "execution_count": 31,
   "metadata": {},
   "outputs": [],
   "source": [
    "word_count_by_season = df.groupby(['Speaker', 'Season']).WordCount.sum().reset_index()\n",
    "\n",
    "complete_data = all_combinations.merge(word_count_by_season, on=['Speaker', 'Season'], how='left').fillna(0)\n",
    "\n",
    "complete_data['WordCount'] = complete_data['WordCount'].astype(int)"
   ]
  },
  {
   "cell_type": "code",
   "execution_count": 32,
   "metadata": {},
   "outputs": [
    {
     "data": {
      "text/html": [
       "<div>\n",
       "<style scoped>\n",
       "    .dataframe tbody tr th:only-of-type {\n",
       "        vertical-align: middle;\n",
       "    }\n",
       "\n",
       "    .dataframe tbody tr th {\n",
       "        vertical-align: top;\n",
       "    }\n",
       "\n",
       "    .dataframe thead th {\n",
       "        text-align: right;\n",
       "    }\n",
       "</style>\n",
       "<table border=\"1\" class=\"dataframe\">\n",
       "  <thead>\n",
       "    <tr style=\"text-align: right;\">\n",
       "      <th></th>\n",
       "      <th>Speaker</th>\n",
       "      <th>Season</th>\n",
       "      <th>WordCount</th>\n",
       "    </tr>\n",
       "  </thead>\n",
       "  <tbody>\n",
       "    <tr>\n",
       "      <th>0</th>\n",
       "      <td>Monica</td>\n",
       "      <td>1</td>\n",
       "      <td>8004</td>\n",
       "    </tr>\n",
       "    <tr>\n",
       "      <th>1</th>\n",
       "      <td>Monica</td>\n",
       "      <td>2</td>\n",
       "      <td>8207</td>\n",
       "    </tr>\n",
       "    <tr>\n",
       "      <th>2</th>\n",
       "      <td>Monica</td>\n",
       "      <td>3</td>\n",
       "      <td>8669</td>\n",
       "    </tr>\n",
       "    <tr>\n",
       "      <th>3</th>\n",
       "      <td>Monica</td>\n",
       "      <td>4</td>\n",
       "      <td>8217</td>\n",
       "    </tr>\n",
       "    <tr>\n",
       "      <th>4</th>\n",
       "      <td>Monica</td>\n",
       "      <td>5</td>\n",
       "      <td>9806</td>\n",
       "    </tr>\n",
       "    <tr>\n",
       "      <th>...</th>\n",
       "      <td>...</td>\n",
       "      <td>...</td>\n",
       "      <td>...</td>\n",
       "    </tr>\n",
       "    <tr>\n",
       "      <th>295</th>\n",
       "      <td>Charlie</td>\n",
       "      <td>6</td>\n",
       "      <td>0</td>\n",
       "    </tr>\n",
       "    <tr>\n",
       "      <th>296</th>\n",
       "      <td>Charlie</td>\n",
       "      <td>7</td>\n",
       "      <td>0</td>\n",
       "    </tr>\n",
       "    <tr>\n",
       "      <th>297</th>\n",
       "      <td>Charlie</td>\n",
       "      <td>8</td>\n",
       "      <td>0</td>\n",
       "    </tr>\n",
       "    <tr>\n",
       "      <th>298</th>\n",
       "      <td>Charlie</td>\n",
       "      <td>9</td>\n",
       "      <td>1428</td>\n",
       "    </tr>\n",
       "    <tr>\n",
       "      <th>299</th>\n",
       "      <td>Charlie</td>\n",
       "      <td>10</td>\n",
       "      <td>504</td>\n",
       "    </tr>\n",
       "  </tbody>\n",
       "</table>\n",
       "<p>300 rows × 3 columns</p>\n",
       "</div>"
      ],
      "text/plain": [
       "     Speaker  Season  WordCount\n",
       "0     Monica       1       8004\n",
       "1     Monica       2       8207\n",
       "2     Monica       3       8669\n",
       "3     Monica       4       8217\n",
       "4     Monica       5       9806\n",
       "..       ...     ...        ...\n",
       "295  Charlie       6          0\n",
       "296  Charlie       7          0\n",
       "297  Charlie       8          0\n",
       "298  Charlie       9       1428\n",
       "299  Charlie      10        504\n",
       "\n",
       "[300 rows x 3 columns]"
      ]
     },
     "execution_count": 32,
     "metadata": {},
     "output_type": "execute_result"
    }
   ],
   "source": [
    "complete_data"
   ]
  },
  {
   "cell_type": "code",
   "execution_count": 33,
   "metadata": {},
   "outputs": [],
   "source": [
    "complete_data.to_csv('word-count-per-season.csv', index=False)"
   ]
  },
  {
   "cell_type": "code",
   "execution_count": null,
   "metadata": {},
   "outputs": [],
   "source": []
  },
  {
   "cell_type": "code",
   "execution_count": null,
   "metadata": {},
   "outputs": [],
   "source": []
  },
  {
   "cell_type": "code",
   "execution_count": 34,
   "metadata": {},
   "outputs": [
    {
     "name": "stderr",
     "output_type": "stream",
     "text": [
      "[nltk_data] Downloading package stopwords to /Users/emir/nltk_data...\n",
      "[nltk_data]   Package stopwords is already up-to-date!\n"
     ]
    }
   ],
   "source": [
    "nltk.download('stopwords')\n",
    "stop_words = set(stopwords.words('english'))"
   ]
  },
  {
   "cell_type": "code",
   "execution_count": 35,
   "metadata": {},
   "outputs": [
    {
     "name": "stderr",
     "output_type": "stream",
     "text": [
      "[nltk_data] Downloading package wordnet to /Users/emir/nltk_data...\n",
      "[nltk_data]   Package wordnet is already up-to-date!\n",
      "[nltk_data] Downloading package averaged_perceptron_tagger to\n",
      "[nltk_data]     /Users/emir/nltk_data...\n",
      "[nltk_data]   Package averaged_perceptron_tagger is already up-to-\n",
      "[nltk_data]       date!\n",
      "[nltk_data] Downloading package stopwords to /Users/emir/nltk_data...\n",
      "[nltk_data]   Package stopwords is already up-to-date!\n"
     ]
    },
    {
     "data": {
      "text/plain": [
       "True"
      ]
     },
     "execution_count": 35,
     "metadata": {},
     "output_type": "execute_result"
    }
   ],
   "source": [
    "import nltk\n",
    "from nltk.stem import WordNetLemmatizer\n",
    "from nltk.corpus import wordnet, stopwords\n",
    "nltk.download('wordnet')\n",
    "nltk.download('averaged_perceptron_tagger')\n",
    "nltk.download('stopwords')"
   ]
  },
  {
   "cell_type": "markdown",
   "metadata": {},
   "source": [
    "### Most Common Words"
   ]
  },
  {
   "cell_type": "code",
   "execution_count": 36,
   "metadata": {},
   "outputs": [],
   "source": [
    "from nltk.tokenize import word_tokenize"
   ]
  },
  {
   "cell_type": "code",
   "execution_count": 37,
   "metadata": {},
   "outputs": [],
   "source": [
    "lemmatizer = WordNetLemmatizer()"
   ]
  },
  {
   "cell_type": "code",
   "execution_count": 38,
   "metadata": {},
   "outputs": [],
   "source": [
    "def preprocess_text(text):\n",
    "    words = word_tokenize(text.lower())\n",
    "    filtered_words = [lemmatizer.lemmatize(word) for word in words if word.isalpha() and word not in stop_words]\n",
    "    return filtered_words"
   ]
  },
  {
   "cell_type": "code",
   "execution_count": 39,
   "metadata": {},
   "outputs": [],
   "source": [
    "df['ProcessedWords'] = df['Text'].apply(preprocess_text)"
   ]
  },
  {
   "cell_type": "code",
   "execution_count": 40,
   "metadata": {},
   "outputs": [],
   "source": [
    "from collections import Counter\n",
    "\n",
    "word_counts_by_character = df.groupby('Speaker')['ProcessedWords'].sum().apply(Counter)"
   ]
  },
  {
   "cell_type": "code",
   "execution_count": 41,
   "metadata": {},
   "outputs": [],
   "source": [
    "top_n = 10\n",
    "data = []\n",
    "\n",
    "for speaker, counter in word_counts_by_character.items():\n",
    "    top_words_counts = counter.most_common(top_n)\n",
    "    speaker_data = {\"Speaker\": speaker}\n",
    "    speaker_data.update({f\"Word_{i+1}\": word for i, (word, _) in enumerate(top_words_counts)})\n",
    "    speaker_data.update({f\"Count_{i+1}\": count for i, (_, count) in enumerate(top_words_counts)})\n",
    "    data.append(speaker_data)"
   ]
  },
  {
   "cell_type": "code",
   "execution_count": 42,
   "metadata": {},
   "outputs": [],
   "source": [
    "words_df = pd.DataFrame(data)"
   ]
  },
  {
   "cell_type": "code",
   "execution_count": 43,
   "metadata": {},
   "outputs": [],
   "source": [
    "most_common_words_data = []\n",
    "\n",
    "for _, row in words_df.iterrows():\n",
    "    speaker = row['Speaker']\n",
    "    words_list = [{'word': row[f'Word_{i+1}'], 'count': row[f'Count_{i+1}']} for i in range(top_n)]\n",
    "    most_common_words_data.append({'character': speaker, 'words': words_list})"
   ]
  },
  {
   "cell_type": "markdown",
   "metadata": {},
   "source": [
    "### Most Distinguishing Words"
   ]
  },
  {
   "cell_type": "code",
   "execution_count": 44,
   "metadata": {},
   "outputs": [],
   "source": [
    "def get_wordnet_pos(word):\n",
    "    \"\"\"Map POS tag to first character lemmatize() accepts\"\"\"\n",
    "    tag = nltk.pos_tag([word])[0][1][0].upper()\n",
    "    tag_dict = {\"J\": wordnet.ADJ,\n",
    "                \"N\": wordnet.NOUN,\n",
    "                \"V\": wordnet.VERB,\n",
    "                \"R\": wordnet.ADV}\n",
    "    return tag_dict.get(tag, wordnet.NOUN)"
   ]
  },
  {
   "cell_type": "code",
   "execution_count": 45,
   "metadata": {},
   "outputs": [],
   "source": [
    "df['Words'] = df['Text'].apply(lambda x: nltk.word_tokenize(x.lower()))\n",
    "df['Words'] = df['Words'].apply(lambda x: [lemmatizer.lemmatize(word, get_wordnet_pos(word)) for word in x if word.isalpha() and word not in stop_words])"
   ]
  },
  {
   "cell_type": "code",
   "execution_count": 46,
   "metadata": {},
   "outputs": [],
   "source": [
    "from sklearn.feature_extraction.text import TfidfVectorizer"
   ]
  },
  {
   "cell_type": "code",
   "execution_count": 47,
   "metadata": {},
   "outputs": [],
   "source": [
    "df['Words'] = df['Text'].apply(lambda x: nltk.word_tokenize(x.lower()))"
   ]
  },
  {
   "cell_type": "code",
   "execution_count": 48,
   "metadata": {},
   "outputs": [
    {
     "data": {
      "text/plain": [
       "3        [there, 's, nothing, to, tell, !, he, 's, just...\n",
       "4        [c'mon, ,, you, 're, going, out, with, the, gu...\n",
       "5        [so, does, he, have, a, hump, ?, a, hump, and,...\n",
       "6                       [wait, ,, does, he, eat, chalk, ?]\n",
       "8        [just, ,, 'cause, ,, i, do, n't, want, her, to...\n",
       "                               ...                        \n",
       "69966    [yeah, !, i, 'm, going, to, paris, ., thank, y...\n",
       "69967           [yeah, ,, yeah, ,, oh, !, (, they, hug, )]\n",
       "69968                  [oh, !, oh, ,, i, 'm, so, happy, .]\n",
       "69969    [then, i, 'm, happy, too, ., (, they, 're, sti...\n",
       "69972    [thank, you, all, for, coming, ., we, 're, her...\n",
       "Name: Words, Length: 53329, dtype: object"
      ]
     },
     "execution_count": 48,
     "metadata": {},
     "output_type": "execute_result"
    }
   ],
   "source": [
    "df['Words']"
   ]
  },
  {
   "cell_type": "code",
   "execution_count": 49,
   "metadata": {},
   "outputs": [],
   "source": [
    "df['Words'] = df['Words'].apply(lambda x: [word for word in x if word.isalpha() and word not in stop_words])"
   ]
  },
  {
   "cell_type": "code",
   "execution_count": 50,
   "metadata": {},
   "outputs": [
    {
     "data": {
      "text/plain": [
       "3                               [nothing, tell, guy, work]\n",
       "4                  [going, guy, got, ta, something, wrong]\n",
       "5                                  [hump, hump, hairpiece]\n",
       "6                                       [wait, eat, chalk]\n",
       "8                                     [want, go, went, oh]\n",
       "                               ...                        \n",
       "69966                    [yeah, going, paris, thank, ross]\n",
       "69967                                [yeah, yeah, oh, hug]\n",
       "69968                                      [oh, oh, happy]\n",
       "69969                        [happy, still, hugging, fade]\n",
       "69972    [thank, coming, today, pay, respects, wonderfu...\n",
       "Name: Words, Length: 53329, dtype: object"
      ]
     },
     "execution_count": 50,
     "metadata": {},
     "output_type": "execute_result"
    }
   ],
   "source": [
    "df[\"Words\"]"
   ]
  },
  {
   "cell_type": "code",
   "execution_count": 51,
   "metadata": {},
   "outputs": [],
   "source": [
    "df['ProcessedText'] = df['Words'].apply(lambda x: ' '.join(x))"
   ]
  },
  {
   "cell_type": "code",
   "execution_count": 52,
   "metadata": {},
   "outputs": [],
   "source": [
    "corpora = df.groupby('Speaker')['ProcessedText'].apply(' '.join)\n",
    "\n",
    "tfidf_vectorizer = TfidfVectorizer(min_df=3, max_df=0.85, ngram_range=(1, 2))\n",
    "tfidf_matrix = tfidf_vectorizer.fit_transform(corpora)\n",
    "\n",
    "feature_names = tfidf_vectorizer.get_feature_names_out()\n",
    "tfidf_df = pd.DataFrame(tfidf_matrix.todense(), index=corpora.index, columns=feature_names)"
   ]
  },
  {
   "cell_type": "code",
   "execution_count": 53,
   "metadata": {},
   "outputs": [
    {
     "name": "stdout",
     "output_type": "stream",
     "text": [
      "Amy:\n",
      "baby                 0.228311\n",
      "ross                 0.196284\n",
      "ella                 0.167527\n",
      "guy                  0.142752\n",
      "hair straightener    0.125645\n",
      "straightener         0.125645\n",
      "sister               0.123330\n",
      "um                   0.122817\n",
      "amy                  0.116446\n",
      "guys                 0.113114\n",
      "Name: Amy, dtype: float64\n",
      "Ben:\n",
      "santa          0.566279\n",
      "monica bang    0.203795\n",
      "monica         0.193791\n",
      "runs           0.192497\n",
      "bang           0.179518\n",
      "bye            0.172953\n",
      "damnit         0.169884\n",
      "bye bye        0.161385\n",
      "daddy          0.153784\n",
      "doug           0.146597\n",
      "Name: Ben, dtype: float64\n",
      "Carol:\n",
      "susan    0.451294\n",
      "ross     0.291096\n",
      "ben      0.218473\n",
      "cramp    0.102485\n",
      "hi hi    0.100597\n",
      "door     0.096728\n",
      "helen    0.094981\n",
      "ow       0.091290\n",
      "funny    0.089715\n",
      "said     0.087329\n",
      "Name: Carol, dtype: float64\n",
      "Chandler:\n",
      "monica    0.255965\n",
      "joey      0.249683\n",
      "look      0.199158\n",
      "ross      0.181077\n",
      "yes       0.173667\n",
      "ok        0.109684\n",
      "man       0.108002\n",
      "let       0.099863\n",
      "thing     0.098782\n",
      "great     0.096459\n",
      "Name: Chandler, dtype: float64\n",
      "Charlie:\n",
      "ross        0.358530\n",
      "joey        0.231186\n",
      "grant       0.151990\n",
      "guy         0.149388\n",
      "actually    0.130042\n",
      "speech      0.122606\n",
      "god         0.115593\n",
      "oh god      0.104571\n",
      "maybe       0.092701\n",
      "broke       0.086011\n",
      "Name: Charlie, dtype: float64\n",
      "David:\n",
      "uhm          0.350666\n",
      "mike         0.321196\n",
      "minsk        0.295250\n",
      "phoebe       0.263185\n",
      "umm          0.103385\n",
      "beautiful    0.092891\n",
      "kiss         0.092889\n",
      "david        0.091770\n",
      "goodbye      0.087667\n",
      "yes          0.086733\n",
      "Name: David, dtype: float64\n",
      "Elizabeth:\n",
      "ross                0.343308\n",
      "professor geller    0.185949\n",
      "geller              0.140406\n",
      "professor           0.136472\n",
      "umm                 0.130224\n",
      "daddy               0.130043\n",
      "wanted              0.117003\n",
      "run                 0.109514\n",
      "maybe want          0.107474\n",
      "student             0.095772\n",
      "Name: Elizabeth, dtype: float64\n",
      "Emily:\n",
      "ross               0.421869\n",
      "liam               0.176816\n",
      "hello              0.134943\n",
      "ohh                0.130019\n",
      "married            0.107466\n",
      "oh god             0.105467\n",
      "god                0.102010\n",
      "yes                0.093495\n",
      "getting married    0.090463\n",
      "getting            0.086418\n",
      "Name: Emily, dtype: float64\n",
      "Frank:\n",
      "ah       0.320353\n",
      "alice    0.282630\n",
      "ow       0.203735\n",
      "ow ow    0.195838\n",
      "wait     0.191170\n",
      "cool     0.151113\n",
      "cause    0.129525\n",
      "stuff    0.111785\n",
      "thing    0.094253\n",
      "whoa     0.088350\n",
      "Name: Frank, dtype: float64\n",
      "Gary:\n",
      "brooklyn    0.323853\n",
      "phoebe      0.282695\n",
      "points      0.163277\n",
      "move        0.157319\n",
      "checked     0.154265\n",
      "post        0.115699\n",
      "chandler    0.106343\n",
      "moving      0.104734\n",
      "witness     0.099839\n",
      "hey joe     0.099839\n",
      "Name: Gary, dtype: float64\n",
      "Gunther:\n",
      "tray           0.165736\n",
      "translation    0.160895\n",
      "joey           0.154709\n",
      "muffins        0.149115\n",
      "cup            0.143320\n",
      "coffee         0.137196\n",
      "birthday       0.137196\n",
      "chandler       0.137101\n",
      "empty          0.124302\n",
      "ross           0.114251\n",
      "Name: Gunther, dtype: float64\n",
      "Janice:\n",
      "chandler         0.369662\n",
      "janice           0.243747\n",
      "laugh            0.163783\n",
      "sid              0.157751\n",
      "laughs           0.140851\n",
      "god              0.130017\n",
      "oh god           0.123221\n",
      "chandler bing    0.121874\n",
      "bing             0.121874\n",
      "ross             0.112019\n",
      "Name: Janice, dtype: float64\n",
      "Janine:\n",
      "joey          0.227398\n",
      "dancer        0.180195\n",
      "blah          0.170525\n",
      "eve           0.127893\n",
      "guys          0.127743\n",
      "year          0.124998\n",
      "new year      0.121496\n",
      "want put      0.110362\n",
      "nights row    0.110362\n",
      "joey takes    0.110362\n",
      "Name: Janine, dtype: float64\n",
      "Jill:\n",
      "ross        0.174783\n",
      "phone       0.153908\n",
      "kind guy    0.152424\n",
      "guy         0.124845\n",
      "god         0.120753\n",
      "date        0.118730\n",
      "smart       0.117457\n",
      "oh great    0.112438\n",
      "maybe       0.103295\n",
      "entering    0.099876\n",
      "Name: Jill, dtype: float64\n",
      "Joey:\n",
      "ross        0.261823\n",
      "chandler    0.239625\n",
      "look        0.212361\n",
      "man         0.141415\n",
      "monica      0.124797\n",
      "joey        0.121115\n",
      "huh         0.117977\n",
      "guys        0.113912\n",
      "pheebs      0.111243\n",
      "guy         0.101314\n",
      "Name: Joey, dtype: float64\n",
      "Joshua:\n",
      "uhh            0.249424\n",
      "gloves         0.181942\n",
      "need           0.137762\n",
      "great          0.128982\n",
      "yeah yeah      0.106896\n",
      "need little    0.103274\n",
      "thanks         0.094953\n",
      "skirt          0.090971\n",
      "ah             0.087793\n",
      "okay uh        0.086089\n",
      "Name: Joshua, dtype: float64\n",
      "Kathy:\n",
      "chandler      0.310135\n",
      "thank         0.214709\n",
      "joey          0.184597\n",
      "listens       0.117478\n",
      "great hair    0.111987\n",
      "box           0.107428\n",
      "know ya       0.103788\n",
      "tushie        0.097089\n",
      "wow           0.095426\n",
      "god           0.092299\n",
      "Name: Kathy, dtype: float64\n",
      "Mike:\n",
      "phoebe    0.396830\n",
      "ok        0.161587\n",
      "wan na    0.143681\n",
      "wan       0.143681\n",
      "look      0.134524\n",
      "mike      0.129090\n",
      "love      0.122657\n",
      "name      0.118497\n",
      "rat       0.100462\n",
      "maybe     0.099411\n",
      "Name: Mike, dtype: float64\n",
      "Mona:\n",
      "ross              0.377144\n",
      "mona              0.160911\n",
      "shirt             0.145661\n",
      "umm               0.136747\n",
      "god               0.128747\n",
      "oh god            0.110925\n",
      "still feelings    0.104141\n",
      "na send           0.096516\n",
      "listen ross       0.096516\n",
      "moving forward    0.096516\n",
      "Name: Mona, dtype: float64\n",
      "Monica:\n",
      "chandler    0.301878\n",
      "phoebe      0.251463\n",
      "joey        0.182490\n",
      "god         0.181293\n",
      "ross        0.167023\n",
      "oh god      0.155888\n",
      "look        0.135567\n",
      "umm         0.128881\n",
      "wait        0.112530\n",
      "ok          0.104477\n",
      "Name: Monica, dtype: float64\n",
      "Mr. Geller:\n",
      "mother      0.218578\n",
      "judy        0.206437\n",
      "ross        0.202394\n",
      "porsche     0.154440\n",
      "chandler    0.139146\n",
      "boxes       0.137625\n",
      "son         0.122400\n",
      "course      0.113295\n",
      "never       0.101197\n",
      "little      0.091642\n",
      "Name: Mr. Geller, dtype: float64\n",
      "Mrs. Geller:\n",
      "jack           0.494170\n",
      "monica         0.312359\n",
      "richard        0.185314\n",
      "ross           0.170707\n",
      "dear           0.129326\n",
      "darling        0.123282\n",
      "wonderful      0.118263\n",
      "chandler       0.105050\n",
      "grandmother    0.090479\n",
      "sweetie        0.082362\n",
      "Name: Mrs. Geller, dtype: float64\n",
      "Paul:\n",
      "ross         0.376935\n",
      "pause        0.182188\n",
      "starts       0.165719\n",
      "paul         0.147569\n",
      "elizabeth    0.131319\n",
      "honey        0.126732\n",
      "chicken      0.112494\n",
      "daughter     0.112494\n",
      "fifth        0.093204\n",
      "likes        0.091094\n",
      "Name: Paul, dtype: float64\n",
      "Pete:\n",
      "ah                   0.249728\n",
      "monica               0.209505\n",
      "ultimate             0.187363\n",
      "fighting             0.176432\n",
      "ultimate fighting    0.172892\n",
      "world                0.165854\n",
      "lights               0.115505\n",
      "thing                0.106872\n",
      "look                 0.100061\n",
      "cause                0.097911\n",
      "Name: Pete, dtype: float64\n",
      "Phoebe:\n",
      "monica      0.199788\n",
      "ok          0.199377\n",
      "god         0.169463\n",
      "ross        0.167504\n",
      "joey        0.155186\n",
      "ooh         0.153548\n",
      "look        0.149364\n",
      "chandler    0.143758\n",
      "umm         0.140039\n",
      "oh god      0.128356\n",
      "Name: Phoebe, dtype: float64\n",
      "Rachel:\n",
      "ross      0.348010\n",
      "god       0.221874\n",
      "joey      0.216659\n",
      "oh god    0.179887\n",
      "monica    0.167795\n",
      "phoebe    0.161245\n",
      "ok        0.149856\n",
      "look      0.138933\n",
      "guys      0.118071\n",
      "honey     0.116622\n",
      "Name: Rachel, dtype: float64\n",
      "Richard:\n",
      "monica     0.221876\n",
      "pause      0.160399\n",
      "richard    0.147173\n",
      "tell       0.112925\n",
      "kids       0.106932\n",
      "love       0.100378\n",
      "guys       0.097138\n",
      "bed        0.088036\n",
      "honey      0.082648\n",
      "ya         0.082648\n",
      "Name: Richard, dtype: float64\n",
      "Ross:\n",
      "look        0.192217\n",
      "joey        0.175257\n",
      "ok          0.154591\n",
      "chandler    0.149559\n",
      "guys        0.140126\n",
      "rach        0.134076\n",
      "monica      0.124933\n",
      "yes         0.110655\n",
      "phoebe      0.103217\n",
      "huh         0.101567\n",
      "Name: Ross, dtype: float64\n",
      "Susan:\n",
      "carol              0.260702\n",
      "ross               0.238237\n",
      "baby               0.169345\n",
      "breathe            0.161592\n",
      "look               0.143829\n",
      "keep               0.135476\n",
      "jordie             0.124259\n",
      "breathe breathe    0.124259\n",
      "day                0.117280\n",
      "yeah time          0.115161\n",
      "Name: Susan, dtype: float64\n",
      "Tag:\n",
      "office     0.219451\n",
      "desk       0.179887\n",
      "rach       0.137131\n",
      "plant      0.127497\n",
      "joey       0.121207\n",
      "green      0.113616\n",
      "morning    0.106892\n",
      "kinda      0.104429\n",
      "gay        0.102848\n",
      "went       0.095835\n",
      "Name: Tag, dtype: float64\n"
     ]
    }
   ],
   "source": [
    "for speaker in corpora.index:\n",
    "    print(f\"{speaker}:\")\n",
    "    speaker_words = tfidf_df.loc[speaker].sort_values(ascending=False).head(10)\n",
    "    print(speaker_words)"
   ]
  },
  {
   "cell_type": "code",
   "execution_count": 54,
   "metadata": {},
   "outputs": [],
   "source": [
    "distinguishing_words_data = []\n",
    "\n",
    "for speaker in corpora.index:\n",
    "    speaker_words = tfidf_df.loc[speaker].sort_values(ascending=False).head(top_n)\n",
    "    words_list = [{'word': word, 'count': count} for word, count in speaker_words.items()]\n",
    "    distinguishing_words_data.append({'character': speaker, 'words': words_list})"
   ]
  },
  {
   "cell_type": "markdown",
   "metadata": {},
   "source": [
    "### JSON Conversion"
   ]
  },
  {
   "cell_type": "code",
   "execution_count": 55,
   "metadata": {},
   "outputs": [],
   "source": [
    "most_common_words_json = json.dumps(most_common_words_data)\n",
    "distinguishing_words_json = json.dumps(distinguishing_words_data)\n",
    "\n",
    "with open('most_common_words.json', 'w') as f:\n",
    "    f.write(most_common_words_json)\n",
    "\n",
    "with open('distinguishing_words.json', 'w') as f:\n",
    "    f.write(distinguishing_words_json)"
   ]
  }
 ],
 "metadata": {
  "kernelspec": {
   "display_name": "myenv",
   "language": "python",
   "name": "myenv"
  },
  "language_info": {
   "codemirror_mode": {
    "name": "ipython",
    "version": 3
   },
   "file_extension": ".py",
   "mimetype": "text/x-python",
   "name": "python",
   "nbconvert_exporter": "python",
   "pygments_lexer": "ipython3",
   "version": "3.9.9"
  }
 },
 "nbformat": 4,
 "nbformat_minor": 4
}
